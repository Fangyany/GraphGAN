{
 "cells": [
  {
   "cell_type": "code",
   "execution_count": 1,
   "metadata": {},
   "outputs": [],
   "source": [
    "import numpy as np\n",
    "from fractions import gcd\n",
    "from numbers import Number\n",
    "\n",
    "import torch\n",
    "from torch import nn\n",
    "from torch.nn import functional as F"
   ]
  },
  {
   "cell_type": "code",
   "execution_count": 3,
   "metadata": {},
   "outputs": [],
   "source": [
    "import os\n",
    "\n",
    "import argparse\n",
    "import numpy as np\n",
    "import random\n",
    "import sys\n",
    "import time\n",
    "import shutil\n",
    "from importlib import import_module\n",
    "from numbers import Number\n",
    "\n",
    "import torch\n",
    "from torch.utils.data import Sampler, DataLoader\n",
    "\n",
    "\n",
    "from utils import Logger, load_pretrain\n",
    "import matplotlib.pyplot as plt\n",
    "from lanegcn import get_model\n",
    "\n",
    "\n",
    "config, Dataset, collate_fn, net, loss, post_process, opt = get_model()\n",
    "\n",
    "def worker_init_fn(pid):\n",
    "    np_seed = int(pid)\n",
    "    np.random.seed(np_seed)\n",
    "    random_seed = np.random.randint(2 ** 32 - 1)\n",
    "    random.seed(random_seed)\n",
    "\n",
    "dataset = Dataset('./dataset/preprocess/train_crs_dist6_angle90.p', config, train=True)\n",
    "train_loader = DataLoader(\n",
    "        dataset,\n",
    "        batch_size=config[\"batch_size\"],\n",
    "        num_workers=config[\"workers\"],\n",
    "        shuffle=False,   # True: At each epoch, reorder the data\n",
    "        collate_fn=collate_fn,\n",
    "        pin_memory=True,\n",
    "        worker_init_fn=worker_init_fn,   # The next 36 were thrown away\n",
    "        drop_last=True,\n",
    "    )\n",
    "\n",
    "\n",
    "from symbol import break_stmt\n",
    "\n",
    "\n",
    "data = {}\n",
    "for i, data in enumerate(train_loader):\n",
    "    data = dict(data)\n",
    "    break"
   ]
  },
  {
   "cell_type": "code",
   "execution_count": 7,
   "metadata": {},
   "outputs": [
    {
     "name": "stdout",
     "output_type": "stream",
     "text": [
      "torch.Size([528, 3, 20])\n"
     ]
    }
   ],
   "source": [
    "from lanegcn import actor_gather\n",
    "actors, actor_idcs = actor_gather(data[\"feats\"])\n",
    "print(actors.size())"
   ]
  },
  {
   "cell_type": "code",
   "execution_count": 16,
   "metadata": {},
   "outputs": [
    {
     "name": "stdout",
     "output_type": "stream",
     "text": [
      "torch.Size([528, 32, 20])\n",
      "torch.Size([528, 32, 20])\n",
      "torch.Size([528, 32, 20])\n",
      "torch.Size([528, 32, 20])\n"
     ]
    }
   ],
   "source": [
    "conv = nn.Conv1d(3, 32, kernel_size=3, padding=1, stride=1, bias=False)\n",
    "out = conv(actors)\n",
    "print(out.size())\n",
    "conv1 = nn.Conv1d(32, 32, kernel_size=3, padding=1, stride=1, bias=False)\n",
    "out1 = conv1(out)\n",
    "print(out1.size())\n",
    "\n",
    "relu = nn.ReLU(inplace=True)\n",
    "out2 = relu(out1)\n",
    "print(out2.size())\n",
    "\n",
    "norm1 = nn.GroupNorm(1,32)\n",
    "out3 = norm1(out2)\n",
    "print(out3.size())\n",
    "\n"
   ]
  },
  {
   "cell_type": "code",
   "execution_count": null,
   "metadata": {},
   "outputs": [],
   "source": []
  }
 ],
 "metadata": {
  "kernelspec": {
   "display_name": "Python 3.7.0 ('lanegcn')",
   "language": "python",
   "name": "python3"
  },
  "language_info": {
   "codemirror_mode": {
    "name": "ipython",
    "version": 3
   },
   "file_extension": ".py",
   "mimetype": "text/x-python",
   "name": "python",
   "nbconvert_exporter": "python",
   "pygments_lexer": "ipython3",
   "version": "3.7.0"
  },
  "orig_nbformat": 4,
  "vscode": {
   "interpreter": {
    "hash": "9ff309fca0a5e8ad5576d7cf0da1773e4040ba62bb168e6dfb3b17a889a1e8a7"
   }
  }
 },
 "nbformat": 4,
 "nbformat_minor": 2
}
