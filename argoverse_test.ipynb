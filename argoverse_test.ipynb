{
 "cells": [
  {
   "cell_type": "code",
   "execution_count": 1,
   "metadata": {},
   "outputs": [],
   "source": [
    "from argoverse.data_loading.argoverse_forecasting_loader import ArgoverseForecastingLoader\n",
    "from argoverse.map_representation.map_api import ArgoverseMap"
   ]
  },
  {
   "cell_type": "code",
   "execution_count": 2,
   "metadata": {},
   "outputs": [],
   "source": [
    "avl = ArgoverseForecastingLoader('./dataset/train_mini/data')\n",
    "a = avl[1]"
   ]
  },
  {
   "cell_type": "code",
   "execution_count": 3,
   "metadata": {},
   "outputs": [
    {
     "name": "stdout",
     "output_type": "stream",
     "text": [
      "Seq : /home/yan/LaneGCN/dataset/train_mini/data/121.csv\n",
      "        ----------------------\n",
      "        || City: PIT\n",
      "        || # Tracks: 19\n",
      "        ----------------------\n"
     ]
    }
   ],
   "source": [
    "print(a)"
   ]
  },
  {
   "cell_type": "code",
   "execution_count": 4,
   "metadata": {},
   "outputs": [
    {
     "data": {
      "text/html": [
       "<div>\n",
       "<style scoped>\n",
       "    .dataframe tbody tr th:only-of-type {\n",
       "        vertical-align: middle;\n",
       "    }\n",
       "\n",
       "    .dataframe tbody tr th {\n",
       "        vertical-align: top;\n",
       "    }\n",
       "\n",
       "    .dataframe thead th {\n",
       "        text-align: right;\n",
       "    }\n",
       "</style>\n",
       "<table border=\"1\" class=\"dataframe\">\n",
       "  <thead>\n",
       "    <tr style=\"text-align: right;\">\n",
       "      <th></th>\n",
       "      <th>TIMESTAMP</th>\n",
       "      <th>TRACK_ID</th>\n",
       "      <th>OBJECT_TYPE</th>\n",
       "      <th>X</th>\n",
       "      <th>Y</th>\n",
       "      <th>CITY_NAME</th>\n",
       "    </tr>\n",
       "  </thead>\n",
       "  <tbody>\n",
       "    <tr>\n",
       "      <th>0</th>\n",
       "      <td>3.159728e+08</td>\n",
       "      <td>00000000-0000-0000-0000-000000000000</td>\n",
       "      <td>AV</td>\n",
       "      <td>570.770031</td>\n",
       "      <td>2140.716597</td>\n",
       "      <td>MIA</td>\n",
       "    </tr>\n",
       "    <tr>\n",
       "      <th>1</th>\n",
       "      <td>3.159728e+08</td>\n",
       "      <td>00000000-0000-0000-0000-000000069181</td>\n",
       "      <td>OTHERS</td>\n",
       "      <td>570.546060</td>\n",
       "      <td>2182.924823</td>\n",
       "      <td>MIA</td>\n",
       "    </tr>\n",
       "    <tr>\n",
       "      <th>2</th>\n",
       "      <td>3.159728e+08</td>\n",
       "      <td>00000000-0000-0000-0000-000000070416</td>\n",
       "      <td>AGENT</td>\n",
       "      <td>573.047945</td>\n",
       "      <td>2173.885004</td>\n",
       "      <td>MIA</td>\n",
       "    </tr>\n",
       "    <tr>\n",
       "      <th>3</th>\n",
       "      <td>3.159728e+08</td>\n",
       "      <td>00000000-0000-0000-0000-000000071050</td>\n",
       "      <td>OTHERS</td>\n",
       "      <td>573.601864</td>\n",
       "      <td>2138.782135</td>\n",
       "      <td>MIA</td>\n",
       "    </tr>\n",
       "    <tr>\n",
       "      <th>4</th>\n",
       "      <td>3.159728e+08</td>\n",
       "      <td>00000000-0000-0000-0000-000000071505</td>\n",
       "      <td>OTHERS</td>\n",
       "      <td>574.360001</td>\n",
       "      <td>2108.637596</td>\n",
       "      <td>MIA</td>\n",
       "    </tr>\n",
       "    <tr>\n",
       "      <th>...</th>\n",
       "      <td>...</td>\n",
       "      <td>...</td>\n",
       "      <td>...</td>\n",
       "      <td>...</td>\n",
       "      <td>...</td>\n",
       "      <td>...</td>\n",
       "    </tr>\n",
       "    <tr>\n",
       "      <th>347</th>\n",
       "      <td>3.159728e+08</td>\n",
       "      <td>00000000-0000-0000-0000-000000071505</td>\n",
       "      <td>OTHERS</td>\n",
       "      <td>573.453209</td>\n",
       "      <td>2175.441746</td>\n",
       "      <td>MIA</td>\n",
       "    </tr>\n",
       "    <tr>\n",
       "      <th>348</th>\n",
       "      <td>3.159728e+08</td>\n",
       "      <td>00000000-0000-0000-0000-000000071564</td>\n",
       "      <td>OTHERS</td>\n",
       "      <td>566.373647</td>\n",
       "      <td>2256.730294</td>\n",
       "      <td>MIA</td>\n",
       "    </tr>\n",
       "    <tr>\n",
       "      <th>349</th>\n",
       "      <td>3.159728e+08</td>\n",
       "      <td>00000000-0000-0000-0000-000000069181</td>\n",
       "      <td>OTHERS</td>\n",
       "      <td>570.089728</td>\n",
       "      <td>2236.145440</td>\n",
       "      <td>MIA</td>\n",
       "    </tr>\n",
       "    <tr>\n",
       "      <th>350</th>\n",
       "      <td>3.159728e+08</td>\n",
       "      <td>00000000-0000-0000-0000-000000071571</td>\n",
       "      <td>OTHERS</td>\n",
       "      <td>563.474613</td>\n",
       "      <td>2214.227769</td>\n",
       "      <td>MIA</td>\n",
       "    </tr>\n",
       "    <tr>\n",
       "      <th>351</th>\n",
       "      <td>3.159728e+08</td>\n",
       "      <td>00000000-0000-0000-0000-000000071578</td>\n",
       "      <td>OTHERS</td>\n",
       "      <td>571.279283</td>\n",
       "      <td>2323.532956</td>\n",
       "      <td>MIA</td>\n",
       "    </tr>\n",
       "  </tbody>\n",
       "</table>\n",
       "<p>352 rows × 6 columns</p>\n",
       "</div>"
      ],
      "text/plain": [
       "        TIMESTAMP                              TRACK_ID OBJECT_TYPE  \\\n",
       "0    3.159728e+08  00000000-0000-0000-0000-000000000000          AV   \n",
       "1    3.159728e+08  00000000-0000-0000-0000-000000069181      OTHERS   \n",
       "2    3.159728e+08  00000000-0000-0000-0000-000000070416       AGENT   \n",
       "3    3.159728e+08  00000000-0000-0000-0000-000000071050      OTHERS   \n",
       "4    3.159728e+08  00000000-0000-0000-0000-000000071505      OTHERS   \n",
       "..            ...                                   ...         ...   \n",
       "347  3.159728e+08  00000000-0000-0000-0000-000000071505      OTHERS   \n",
       "348  3.159728e+08  00000000-0000-0000-0000-000000071564      OTHERS   \n",
       "349  3.159728e+08  00000000-0000-0000-0000-000000069181      OTHERS   \n",
       "350  3.159728e+08  00000000-0000-0000-0000-000000071571      OTHERS   \n",
       "351  3.159728e+08  00000000-0000-0000-0000-000000071578      OTHERS   \n",
       "\n",
       "              X            Y CITY_NAME  \n",
       "0    570.770031  2140.716597       MIA  \n",
       "1    570.546060  2182.924823       MIA  \n",
       "2    573.047945  2173.885004       MIA  \n",
       "3    573.601864  2138.782135       MIA  \n",
       "4    574.360001  2108.637596       MIA  \n",
       "..          ...          ...       ...  \n",
       "347  573.453209  2175.441746       MIA  \n",
       "348  566.373647  2256.730294       MIA  \n",
       "349  570.089728  2236.145440       MIA  \n",
       "350  563.474613  2214.227769       MIA  \n",
       "351  571.279283  2323.532956       MIA  \n",
       "\n",
       "[352 rows x 6 columns]"
      ]
     },
     "execution_count": 4,
     "metadata": {},
     "output_type": "execute_result"
    }
   ],
   "source": [
    "df = avl[0].seq_df\n",
    "df"
   ]
  },
  {
   "cell_type": "code",
   "execution_count": 5,
   "metadata": {},
   "outputs": [
    {
     "data": {
      "text/plain": [
       "{('00000000-0000-0000-0000-000000000000', 'AV'): [0, 5, 10, 15, 20, 25, 30, 35, 40, 45, 51, 57, 63, 69, 74, 79, 85, 91, 97, 103, 109, 115, 121, 128, 136, 143, 150, 157, 165, 173, 181, 189, 197, 205, 214, 223, 232, 241, 250, 259, 267, 276, 285, 294, 303, 312, 320, 328, 336, 344], ('00000000-0000-0000-0000-000000069181', 'OTHERS'): [1, 6, 11, 16, 21, 26, 31, 36, 41, 46, 52, 58, 64, 70, 75, 80, 86, 92, 98, 104, 110, 116, 122, 129, 137, 144, 151, 158, 166, 174, 182, 190, 198, 206, 215, 224, 233, 242, 251, 260, 268, 277, 286, 295, 304, 313, 321, 332, 341, 349], ('00000000-0000-0000-0000-000000070416', 'AGENT'): [2, 7, 12, 17, 22, 27, 33, 37, 42, 48, 53, 59, 65, 73, 76, 84, 89, 93, 99, 105, 111, 117, 123, 130, 138, 145, 152, 159, 167, 175, 183, 191, 199, 207, 216, 225, 234, 243, 252, 261, 269, 278, 287, 296, 308, 315, 323, 333, 337, 345], ('00000000-0000-0000-0000-000000071050', 'OTHERS'): [3, 8, 13, 18, 23, 28, 34, 38, 43, 49, 55, 61, 68, 72, 78, 83, 90, 95, 101, 106, 112, 118, 125, 133, 141, 148, 154, 160, 170, 179, 187, 195, 203, 212, 221, 230, 239, 248, 257, 262, 270, 279, 288, 301, 305, 318, 326, 329, 338, 346], ('00000000-0000-0000-0000-000000071505', 'OTHERS'): [4, 9, 14, 19, 24, 29, 32, 39, 44, 50, 56, 62, 67, 71, 77, 81, 87, 96, 102, 108, 114, 119, 126, 134, 142, 149, 155, 161, 171, 180, 188, 196, 204, 213, 222, 231, 240, 249, 258, 263, 271, 280, 289, 302, 306, 319, 327, 330, 339, 347], ('00000000-0000-0000-0000-000000071559', 'OTHERS'): [47, 54, 60, 66], ('00000000-0000-0000-0000-000000071563', 'OTHERS'): [82, 88, 94, 100, 107, 113, 120, 127, 135], ('00000000-0000-0000-0000-000000071564', 'OTHERS'): [124, 132, 140, 147, 153, 163, 169, 178, 186, 194, 202, 211, 220, 229, 238, 247, 256, 265, 274, 283, 292, 300, 310, 317, 325, 331, 340, 348], ('00000000-0000-0000-0000-000000071566', 'OTHERS'): [131, 139, 146, 156, 164, 172, 177, 185, 192, 201, 209, 218, 227, 236, 245, 254], ('00000000-0000-0000-0000-000000071571', 'OTHERS'): [162, 168, 176, 184, 193, 200, 208, 217, 226, 235, 244, 253, 264, 272, 281, 290, 298, 307, 314, 322, 334, 342, 350], ('00000000-0000-0000-0000-000000071575', 'OTHERS'): [210, 219, 228, 237, 246, 255, 266, 275, 284, 293, 299, 311], ('00000000-0000-0000-0000-000000071578', 'OTHERS'): [273, 282, 291, 297, 309, 316, 324, 335, 343, 351]}"
      ]
     },
     "execution_count": 5,
     "metadata": {},
     "output_type": "execute_result"
    }
   ],
   "source": [
    "\n",
    "objs = df.groupby(['TRACK_ID', 'OBJECT_TYPE']).groups\n",
    "objs"
   ]
  },
  {
   "cell_type": "code",
   "execution_count": 6,
   "metadata": {},
   "outputs": [],
   "source": [
    "import matplotlib.pyplot as plt\n",
    "import numpy as np"
   ]
  },
  {
   "cell_type": "code",
   "execution_count": 52,
   "metadata": {},
   "outputs": [
    {
     "name": "stdout",
     "output_type": "stream",
     "text": [
      "Seq : /home/yan/LaneGCN/dataset/train_mini/data/64.csv\n",
      "        ----------------------\n",
      "        || City: MIA\n",
      "        || # Tracks: 12\n",
      "        ----------------------\n",
      "50 [[ 573.0479452  2173.88500388]\n",
      " [ 573.13391634 2175.81861046]\n",
      " [ 573.24575016 2177.49989391]\n",
      " [ 573.1928104  2179.37480491]\n",
      " [ 573.25778649 2181.14898675]\n",
      " [ 573.23257316 2182.90579026]\n",
      " [ 573.43280168 2184.67170524]\n",
      " [ 573.24119988 2186.81444092]\n",
      " [ 573.56101706 2188.42624904]\n",
      " [ 573.40875687 2190.47741332]\n",
      " [ 573.51152633 2191.79507819]\n",
      " [ 573.47142971 2193.6474712 ]\n",
      " [ 573.54464939 2195.39772581]\n",
      " [ 573.30908497 2197.42493619]\n",
      " [ 573.60044339 2199.26775943]\n",
      " [ 573.69757693 2200.80729351]\n",
      " [ 573.34543736 2202.50062668]\n",
      " [ 573.32655131 2204.28752659]\n",
      " [ 573.44656166 2206.53058894]\n",
      " [ 573.4844042  2207.98378463]\n",
      " [ 573.44675674 2209.69408265]\n",
      " [ 573.34711976 2211.48757917]\n",
      " [ 573.12660392 2213.20309688]\n",
      " [ 573.43170869 2215.08278166]\n",
      " [ 573.42989897 2216.80309913]\n",
      " [ 573.35693375 2219.07718951]\n",
      " [ 573.37356203 2220.36499652]\n",
      " [ 573.22389043 2222.60123111]\n",
      " [ 573.02695778 2224.33343508]\n",
      " [ 572.99769517 2226.16455694]\n",
      " [ 572.99798062 2227.93458619]\n",
      " [ 573.16681424 2229.18809242]\n",
      " [ 573.06052211 2231.51960505]\n",
      " [ 573.05641054 2232.32134481]\n",
      " [ 572.95523495 2234.58974618]\n",
      " [ 572.50903454 2236.18584706]\n",
      " [ 572.50903454 2236.18584706]\n",
      " [ 572.94852398 2239.5246    ]\n",
      " [ 572.94852398 2239.5246    ]\n",
      " [ 572.94852398 2239.5246    ]\n",
      " [ 572.75923622 2245.23511086]\n",
      " [ 572.80238177 2246.99118745]\n",
      " [ 572.88617855 2248.72819284]\n",
      " [ 572.77545296 2250.58360542]\n",
      " [ 572.86169659 2252.26849651]\n",
      " [ 572.93989377 2254.54390782]\n",
      " [ 572.9680097  2255.91958773]\n",
      " [ 572.9680097  2255.91958773]\n",
      " [ 572.92972637 2259.33748964]\n",
      " [ 572.82958804 2261.14243533]]\n",
      "[573.0479452  573.13391634 573.24575016 573.1928104  573.25778649\n",
      " 573.23257316 573.43280168 573.24119988 573.56101706 573.40875687\n",
      " 573.51152633 573.47142971 573.54464939 573.30908497 573.60044339\n",
      " 573.69757693 573.34543736 573.32655131 573.44656166 573.4844042\n",
      " 573.44675674 573.34711976 573.12660392 573.43170869 573.42989897\n",
      " 573.35693375 573.37356203 573.22389043 573.02695778 572.99769517\n",
      " 572.99798062 573.16681424 573.06052211 573.05641054 572.95523495\n",
      " 572.50903454 572.50903454 572.94852398 572.94852398 572.94852398\n",
      " 572.75923622 572.80238177 572.88617855 572.77545296 572.86169659\n",
      " 572.93989377 572.9680097  572.9680097  572.92972637 572.82958804]\n"
     ]
    },
    {
     "data": {
      "text/plain": [
       "<matplotlib.collections.PathCollection at 0x7fd8e3acde10>"
      ]
     },
     "execution_count": 52,
     "metadata": {},
     "output_type": "execute_result"
    },
    {
     "data": {
      "image/png": "[encoded data removed]",
      "text/plain": [
       "<Figure size 432x288 with 1 Axes>"
      ]
     },
     "metadata": {
      "needs_background": "light"
     },
     "output_type": "display_data"
    }
   ],
   "source": [
    "a = avl[0]\n",
    "print(a)\n",
    "agent_traj = a.agent_traj\n",
    "print(len(agent_traj), agent_traj)\n",
    "print(agent_traj[:,0])\n",
    "plt.xlim(500, 700)\n",
    "plt.ylim(2100, 2300)\n",
    "plt.scatter(agent_traj[:,0], agent_traj[:,1])"
   ]
  },
  {
   "cell_type": "code",
   "execution_count": 47,
   "metadata": {},
   "outputs": [
    {
     "data": {
      "text/plain": [
       "<matplotlib.collections.PathCollection at 0x7fd8994c12e8>"
      ]
     },
     "execution_count": 47,
     "metadata": {},
     "output_type": "execute_result"
    },
    {
     "data": {
      "image/png": "[encoded data removed]",
      "text/plain": [
       "<Figure size 432x288 with 1 Axes>"
      ]
     },
     "metadata": {
      "needs_background": "light"
     },
     "output_type": "display_data"
    }
   ],
   "source": [
    "idx = 0\n",
    "plt.scatter(avl[idx].agent_traj[:,0],avl[idx].agent_traj[:,1])"
   ]
  },
  {
   "cell_type": "code",
   "execution_count": 48,
   "metadata": {},
   "outputs": [],
   "source": [
    "trj = np.array([[ 0.0000e+00,  0.0000e+00,  1.0000e+00],\n",
    "        [ 3.9592e-01, -9.8925e-02,  1.0000e+00],\n",
    "        [ 2.2897e-02,  9.9555e-03,  1.0000e+00],\n",
    "        [-7.2761e-02, -3.2908e-03,  1.0000e+00],\n",
    "        [ 4.0273e-01, -6.3524e-02,  1.0000e+00],\n",
    "        [-1.7019e-01, -1.3344e-02,  1.0000e+00],\n",
    "        [ 1.0898e-01, -4.2969e-02,  1.0000e+00],\n",
    "        [ 1.8250e-01, -3.5283e-02,  1.0000e+00],\n",
    "        [ 1.2292e-01,  1.4439e-02,  1.0000e+00],\n",
    "        [-7.2461e-02, -9.1451e-02,  1.0000e+00],\n",
    "        [ 1.4957e-01, -2.7254e-02,  1.0000e+00],\n",
    "        [ 2.4280e-01, -5.2118e-02,  1.0000e+00],\n",
    "        [ 2.1346e-01, -1.9946e-02,  1.0000e+00],\n",
    "        [ 1.1724e-01,  2.9285e-02,  1.0000e+00],\n",
    "        [ 2.1163e-01, -1.8166e-01,  1.0000e+00],\n",
    "        [ 4.6757e-04, -4.4490e-02,  1.0000e+00],\n",
    "        [-6.2435e-02, -1.7334e-03,  1.0000e+00],\n",
    "        [ 2.9113e-01, -3.6953e-03,  1.0000e+00],\n",
    "        [ 2.9259e-02, -3.7473e-02,  1.0000e+00],\n",
    "        [ 1.9936e-01,  2.8567e-05,  1.0000e+00]])\n",
    "x = 0\n",
    "y = 0\n",
    "for i in range(20):\n",
    "        x += trj[i,0]\n",
    "        y += trj[i,1]\n",
    "        trj[i,0] = x\n",
    "        trj[i,1] = y"
   ]
  },
  {
   "cell_type": "code",
   "execution_count": 57,
   "metadata": {},
   "outputs": [
    {
     "data": {
      "text/plain": [
       "<matplotlib.collections.PathCollection at 0x7fd8e3b8b470>"
      ]
     },
     "execution_count": 57,
     "metadata": {},
     "output_type": "execute_result"
    },
    {
     "data": {
      "image/png": "[encoded data removed]",
      "text/plain": [
       "<Figure size 432x288 with 1 Axes>"
      ]
     },
     "metadata": {
      "needs_background": "light"
     },
     "output_type": "display_data"
    }
   ],
   "source": [
    "plt.xlim(0, 3)\n",
    "plt.ylim(-3, 0)\n",
    "plt.scatter(trj[:,0], trj[:,1])"
   ]
  },
  {
   "cell_type": "markdown",
   "metadata": {},
   "source": [
    "Lane_graph"
   ]
  },
  {
   "cell_type": "code",
   "execution_count": 50,
   "metadata": {},
   "outputs": [
    {
     "ename": "KeyboardInterrupt",
     "evalue": "",
     "output_type": "error",
     "traceback": [
      "\u001b[0;31m---------------------------------------------------------------------------\u001b[0m",
      "\u001b[0;31mKeyboardInterrupt\u001b[0m                         Traceback (most recent call last)",
      "\u001b[0;32m/tmp/ipykernel_57532/199247727.py\u001b[0m in \u001b[0;36m<module>\u001b[0;34m\u001b[0m\n\u001b[0;32m----> 1\u001b[0;31m \u001b[0mam\u001b[0m \u001b[0;34m=\u001b[0m \u001b[0mArgoverseMap\u001b[0m\u001b[0;34m(\u001b[0m\u001b[0;34m)\u001b[0m\u001b[0;34m\u001b[0m\u001b[0m\n\u001b[0m",
      "\u001b[0;32m~/anaconda3/envs/lanegcn/lib/python3.7/site-packages/argoverse/map_representation/map_api.py\u001b[0m in \u001b[0;36m__init__\u001b[0;34m(self, root)\u001b[0m\n\u001b[1;32m     79\u001b[0m \u001b[0;34m\u001b[0m\u001b[0m\n\u001b[1;32m     80\u001b[0m         \u001b[0;32mfor\u001b[0m \u001b[0mcity_name\u001b[0m \u001b[0;32min\u001b[0m \u001b[0mself\u001b[0m\u001b[0;34m.\u001b[0m\u001b[0mcity_name_to_city_id_dict\u001b[0m\u001b[0;34m.\u001b[0m\u001b[0mkeys\u001b[0m\u001b[0;34m(\u001b[0m\u001b[0;34m)\u001b[0m\u001b[0;34m:\u001b[0m\u001b[0;34m\u001b[0m\u001b[0m\n\u001b[0;32m---> 81\u001b[0;31m             \u001b[0mlane_polygons\u001b[0m \u001b[0;34m=\u001b[0m \u001b[0mnp\u001b[0m\u001b[0;34m.\u001b[0m\u001b[0marray\u001b[0m\u001b[0;34m(\u001b[0m\u001b[0mself\u001b[0m\u001b[0;34m.\u001b[0m\u001b[0mget_vector_map_lane_polygons\u001b[0m\u001b[0;34m(\u001b[0m\u001b[0mcity_name\u001b[0m\u001b[0;34m)\u001b[0m\u001b[0;34m,\u001b[0m \u001b[0mdtype\u001b[0m\u001b[0;34m=\u001b[0m\u001b[0mobject\u001b[0m\u001b[0;34m)\u001b[0m\u001b[0;34m\u001b[0m\u001b[0m\n\u001b[0m\u001b[1;32m     82\u001b[0m             \u001b[0mdriveable_areas\u001b[0m \u001b[0;34m=\u001b[0m \u001b[0mnp\u001b[0m\u001b[0;34m.\u001b[0m\u001b[0marray\u001b[0m\u001b[0;34m(\u001b[0m\u001b[0mself\u001b[0m\u001b[0;34m.\u001b[0m\u001b[0mget_vector_map_driveable_areas\u001b[0m\u001b[0;34m(\u001b[0m\u001b[0mcity_name\u001b[0m\u001b[0;34m)\u001b[0m\u001b[0;34m,\u001b[0m \u001b[0mdtype\u001b[0m\u001b[0;34m=\u001b[0m\u001b[0mobject\u001b[0m\u001b[0;34m)\u001b[0m\u001b[0;34m\u001b[0m\u001b[0m\n\u001b[1;32m     83\u001b[0m             \u001b[0mlane_bboxes\u001b[0m \u001b[0;34m=\u001b[0m \u001b[0mcompute_polygon_bboxes\u001b[0m\u001b[0;34m(\u001b[0m\u001b[0mlane_polygons\u001b[0m\u001b[0;34m)\u001b[0m\u001b[0;34m\u001b[0m\u001b[0m\n",
      "\u001b[0;32m~/anaconda3/envs/lanegcn/lib/python3.7/site-packages/argoverse/map_representation/map_api.py\u001b[0m in \u001b[0;36mget_vector_map_lane_polygons\u001b[0;34m(self, city_name)\u001b[0m\n\u001b[1;32m    108\u001b[0m         \u001b[0mlane_segments\u001b[0m \u001b[0;34m=\u001b[0m \u001b[0mself\u001b[0m\u001b[0;34m.\u001b[0m\u001b[0mcity_lane_centerlines_dict\u001b[0m\u001b[0;34m[\u001b[0m\u001b[0mcity_name\u001b[0m\u001b[0;34m]\u001b[0m\u001b[0;34m\u001b[0m\u001b[0m\n\u001b[1;32m    109\u001b[0m         \u001b[0;32mfor\u001b[0m \u001b[0mlane_id\u001b[0m\u001b[0;34m,\u001b[0m \u001b[0mlane_segment\u001b[0m \u001b[0;32min\u001b[0m \u001b[0mlane_segments\u001b[0m\u001b[0;34m.\u001b[0m\u001b[0mitems\u001b[0m\u001b[0;34m(\u001b[0m\u001b[0;34m)\u001b[0m\u001b[0;34m:\u001b[0m\u001b[0;34m\u001b[0m\u001b[0m\n\u001b[0;32m--> 110\u001b[0;31m             \u001b[0mlane_polygon_xyz\u001b[0m \u001b[0;34m=\u001b[0m \u001b[0mself\u001b[0m\u001b[0;34m.\u001b[0m\u001b[0mget_lane_segment_polygon\u001b[0m\u001b[0;34m(\u001b[0m\u001b[0mlane_segment\u001b[0m\u001b[0;34m.\u001b[0m\u001b[0mid\u001b[0m\u001b[0;34m,\u001b[0m \u001b[0mcity_name\u001b[0m\u001b[0;34m)\u001b[0m\u001b[0;34m\u001b[0m\u001b[0m\n\u001b[0m\u001b[1;32m    111\u001b[0m             \u001b[0mlane_polygons\u001b[0m\u001b[0;34m.\u001b[0m\u001b[0mappend\u001b[0m\u001b[0;34m(\u001b[0m\u001b[0mlane_polygon_xyz\u001b[0m\u001b[0;34m)\u001b[0m\u001b[0;34m\u001b[0m\u001b[0m\n\u001b[1;32m    112\u001b[0m \u001b[0;34m\u001b[0m\u001b[0m\n",
      "\u001b[0;32m~/anaconda3/envs/lanegcn/lib/python3.7/site-packages/argoverse/map_representation/map_api.py\u001b[0m in \u001b[0;36mget_lane_segment_polygon\u001b[0;34m(self, lane_segment_id, city_name)\u001b[0m\n\u001b[1;32m    737\u001b[0m         \"\"\"\n\u001b[1;32m    738\u001b[0m         \u001b[0mlane_centerline\u001b[0m \u001b[0;34m=\u001b[0m \u001b[0mself\u001b[0m\u001b[0;34m.\u001b[0m\u001b[0mcity_lane_centerlines_dict\u001b[0m\u001b[0;34m[\u001b[0m\u001b[0mcity_name\u001b[0m\u001b[0;34m]\u001b[0m\u001b[0;34m[\u001b[0m\u001b[0mlane_segment_id\u001b[0m\u001b[0;34m]\u001b[0m\u001b[0;34m.\u001b[0m\u001b[0mcenterline\u001b[0m\u001b[0;34m\u001b[0m\u001b[0m\n\u001b[0;32m--> 739\u001b[0;31m         \u001b[0mlane_polygon\u001b[0m \u001b[0;34m=\u001b[0m \u001b[0mcenterline_to_polygon\u001b[0m\u001b[0;34m(\u001b[0m\u001b[0mlane_centerline\u001b[0m\u001b[0;34m[\u001b[0m\u001b[0;34m:\u001b[0m\u001b[0;34m,\u001b[0m \u001b[0;34m:\u001b[0m\u001b[0;36m2\u001b[0m\u001b[0;34m]\u001b[0m\u001b[0;34m)\u001b[0m\u001b[0;34m\u001b[0m\u001b[0m\n\u001b[0m\u001b[1;32m    740\u001b[0m         \u001b[0;32mreturn\u001b[0m \u001b[0mself\u001b[0m\u001b[0;34m.\u001b[0m\u001b[0mappend_height_to_2d_city_pt_cloud\u001b[0m\u001b[0;34m(\u001b[0m\u001b[0mlane_polygon\u001b[0m\u001b[0;34m,\u001b[0m \u001b[0mcity_name\u001b[0m\u001b[0;34m)\u001b[0m\u001b[0;34m\u001b[0m\u001b[0m\n\u001b[1;32m    741\u001b[0m \u001b[0;34m\u001b[0m\u001b[0m\n",
      "\u001b[0;32m~/anaconda3/envs/lanegcn/lib/python3.7/site-packages/argoverse/utils/centerline_utils.py\u001b[0m in \u001b[0;36mcenterline_to_polygon\u001b[0;34m(centerline, width_scaling_factor, visualize)\u001b[0m\n\u001b[1;32m     64\u001b[0m     \u001b[0mcenterline\u001b[0m \u001b[0;34m=\u001b[0m \u001b[0mcenterline\u001b[0m\u001b[0;34m[\u001b[0m\u001b[0minds\u001b[0m\u001b[0;34m]\u001b[0m\u001b[0;34m\u001b[0m\u001b[0m\n\u001b[1;32m     65\u001b[0m \u001b[0;34m\u001b[0m\u001b[0m\n\u001b[0;32m---> 66\u001b[0;31m     \u001b[0mdx\u001b[0m \u001b[0;34m=\u001b[0m \u001b[0mnp\u001b[0m\u001b[0;34m.\u001b[0m\u001b[0mgradient\u001b[0m\u001b[0;34m(\u001b[0m\u001b[0mcenterline\u001b[0m\u001b[0;34m[\u001b[0m\u001b[0;34m:\u001b[0m\u001b[0;34m,\u001b[0m \u001b[0;36m0\u001b[0m\u001b[0;34m]\u001b[0m\u001b[0;34m)\u001b[0m\u001b[0;34m\u001b[0m\u001b[0m\n\u001b[0m\u001b[1;32m     67\u001b[0m     \u001b[0mdy\u001b[0m \u001b[0;34m=\u001b[0m \u001b[0mnp\u001b[0m\u001b[0;34m.\u001b[0m\u001b[0mgradient\u001b[0m\u001b[0;34m(\u001b[0m\u001b[0mcenterline\u001b[0m\u001b[0;34m[\u001b[0m\u001b[0;34m:\u001b[0m\u001b[0;34m,\u001b[0m \u001b[0;36m1\u001b[0m\u001b[0;34m]\u001b[0m\u001b[0;34m)\u001b[0m\u001b[0;34m\u001b[0m\u001b[0m\n\u001b[1;32m     68\u001b[0m \u001b[0;34m\u001b[0m\u001b[0m\n",
      "\u001b[0;32m<__array_function__ internals>\u001b[0m in \u001b[0;36mgradient\u001b[0;34m(*args, **kwargs)\u001b[0m\n",
      "\u001b[0;32m~/anaconda3/envs/lanegcn/lib/python3.7/site-packages/numpy/lib/function_base.py\u001b[0m in \u001b[0;36mgradient\u001b[0;34m(f, axis, edge_order, *varargs)\u001b[0m\n\u001b[1;32m   1054\u001b[0m                 \"at least (edge_order + 1) elements are required.\")\n\u001b[1;32m   1055\u001b[0m         \u001b[0;31m# result allocation\u001b[0m\u001b[0;34m\u001b[0m\u001b[0;34m\u001b[0m\u001b[0m\n\u001b[0;32m-> 1056\u001b[0;31m         \u001b[0mout\u001b[0m \u001b[0;34m=\u001b[0m \u001b[0mnp\u001b[0m\u001b[0;34m.\u001b[0m\u001b[0mempty_like\u001b[0m\u001b[0;34m(\u001b[0m\u001b[0mf\u001b[0m\u001b[0;34m,\u001b[0m \u001b[0mdtype\u001b[0m\u001b[0;34m=\u001b[0m\u001b[0motype\u001b[0m\u001b[0;34m)\u001b[0m\u001b[0;34m\u001b[0m\u001b[0m\n\u001b[0m\u001b[1;32m   1057\u001b[0m \u001b[0;34m\u001b[0m\u001b[0m\n\u001b[1;32m   1058\u001b[0m         \u001b[0;31m# spacing for the current axis\u001b[0m\u001b[0;34m\u001b[0m\u001b[0;34m\u001b[0m\u001b[0m\n",
      "\u001b[0;32m<__array_function__ internals>\u001b[0m in \u001b[0;36mempty_like\u001b[0;34m(*args, **kwargs)\u001b[0m\n",
      "\u001b[0;31mKeyboardInterrupt\u001b[0m: "
     ]
    }
   ],
   "source": [
    "am = ArgoverseMap()\n"
   ]
  },
  {
   "cell_type": "code",
   "execution_count": null,
   "metadata": {},
   "outputs": [],
   "source": [
    "### config ###\n",
    "config = dict()\n",
    "\"\"\"Train\"\"\"\n",
    "config[\"display_iters\"] = 205942\n",
    "config[\"val_iters\"] = 205942 * 2\n",
    "config[\"save_freq\"] = 1.0\n",
    "config[\"epoch\"] = 0\n",
    "config[\"horovod\"] = True\n",
    "config[\"opt\"] = \"adam\"\n",
    "config[\"num_epochs\"] = 36\n",
    "config[\"lr\"] = [1e-3, 1e-4]\n",
    "config[\"lr_epochs\"] = [32]\n",
    "# config[\"lr_func\"] = StepLR(config[\"lr\"], config[\"lr_epochs\"])\n",
    "\n",
    "\"\"\"Model\"\"\"\n",
    "config[\"rot_aug\"] = False\n",
    "config[\"pred_range\"] = [-100.0, 100.0, -100.0, 100.0]\n",
    "config[\"num_scales\"] = 6\n",
    "config[\"n_actor\"] = 128\n",
    "config[\"n_map\"] = 128\n",
    "config[\"actor2map_dist\"] = 7.0\n",
    "config[\"map2actor_dist\"] = 6.0\n",
    "config[\"actor2actor_dist\"] = 100.0\n",
    "config[\"pred_size\"] = 30\n",
    "config[\"pred_step\"] = 1\n",
    "config[\"num_preds\"] = config[\"pred_size\"] // config[\"pred_step\"]\n",
    "config[\"num_mods\"] = 6\n",
    "config[\"cls_coef\"] = 1.0\n",
    "config[\"reg_coef\"] = 1.0\n",
    "config[\"mgn\"] = 0.2\n",
    "config[\"cls_th\"] = 2.0\n",
    "config[\"cls_ignore\"] = 0.2\n",
    "### end of config ###\n"
   ]
  },
  {
   "cell_type": "code",
   "execution_count": null,
   "metadata": {},
   "outputs": [
    {
     "name": "stderr",
     "output_type": "stream",
     "text": [
      "/home/yan/anaconda3/envs/lanegcn/lib/python3.7/site-packages/tqdm/auto.py:22: TqdmWarning: IProgress not found. Please update jupyter and ipywidgets. See https://ipywidgets.readthedocs.io/en/stable/user_install.html\n",
      "  from .autonotebook import tqdm as notebook_tqdm\n"
     ]
    }
   ],
   "source": [
    "from data import ArgoDataset\n",
    "# from data import ref_copy\n",
    "dataset = ArgoDataset('./dataset/val_mini/data', config, False)\n"
   ]
  },
  {
   "cell_type": "code",
   "execution_count": null,
   "metadata": {},
   "outputs": [
    {
     "data": {
      "text/plain": [
       "dict_keys(['city', 'trajs', 'steps', 'feats', 'ctrs', 'orig', 'theta', 'rot', 'gt_preds', 'has_preds'])"
      ]
     },
     "execution_count": 13,
     "metadata": {},
     "output_type": "execute_result"
    }
   ],
   "source": [
    "idx = 0\n",
    "data = dataset.read_argo_data(idx)\n",
    "data = dataset.get_obj_feats(data)\n",
    "data.keys()\n"
   ]
  },
  {
   "cell_type": "markdown",
   "metadata": {},
   "source": [
    "feats = self.att_dest(actors, torch.cat(actor_ctrs, 0), dest_ctrs)"
   ]
  },
  {
   "cell_type": "markdown",
   "metadata": {},
   "source": [
    "actors, actor_idcs = actor_gather(data[\"feats\"])\n"
   ]
  },
  {
   "cell_type": "markdown",
   "metadata": {},
   "source": [
    "actor_ctrs = data[\"ctrs\"]"
   ]
  },
  {
   "cell_type": "code",
   "execution_count": null,
   "metadata": {},
   "outputs": [
    {
     "name": "stdout",
     "output_type": "stream",
     "text": [
      "[[[ 0.00000000e+00  0.00000000e+00  1.00000000e+00]\n",
      "  [ 6.10432625e-01 -4.23243046e-02  1.00000000e+00]\n",
      "  [ 8.59392166e-01 -5.85769415e-02  1.00000000e+00]\n",
      "  [ 5.63298225e-01 -4.47732210e-02  1.00000000e+00]\n",
      "  [ 6.13935947e-01  4.57600653e-02  1.00000000e+00]\n",
      "  [ 5.82635403e-01 -4.98154163e-02  1.00000000e+00]\n",
      "  [ 6.55215263e-01 -5.06181121e-02  1.00000000e+00]\n",
      "  [ 6.69260502e-01 -3.34728062e-02  1.00000000e+00]\n",
      "  [ 6.40731335e-01 -4.77027893e-03  1.00000000e+00]\n",
      "  [ 5.46038628e-01 -4.62784767e-02  1.00000000e+00]\n",
      "  [ 6.31787777e-01 -5.21857738e-02  1.00000000e+00]\n",
      "  [ 5.23304224e-01 -5.35900295e-02  1.00000000e+00]\n",
      "  [ 3.62978458e-01 -3.66372764e-02  1.00000000e+00]\n",
      "  [ 5.03938675e-01 -1.23247802e-02  1.00000000e+00]\n",
      "  [ 5.11622429e-01 -4.21559662e-02  1.00000000e+00]\n",
      "  [ 5.19481182e-01 -2.65318155e-02  1.00000000e+00]\n",
      "  [ 4.05378103e-01 -3.52502465e-02  1.00000000e+00]\n",
      "  [ 7.31399477e-01  4.57379520e-02  1.00000000e+00]\n",
      "  [ 2.09051639e-01 -7.40845352e-02  1.00000000e+00]\n",
      "  [ 3.75810981e-01 -3.66666391e-05  1.00000000e+00]]\n",
      "\n",
      " [[ 0.00000000e+00  0.00000000e+00  1.00000000e+00]\n",
      "  [-1.10258675e+00  6.64582253e-02  1.00000000e+00]\n",
      "  [-1.05735207e+00  6.07061386e-02  1.00000000e+00]\n",
      "  [-1.16588974e+00  6.71138763e-02  1.00000000e+00]\n",
      "  [-1.05956268e+00  6.19745255e-02  1.00000000e+00]\n",
      "  [-1.06167030e+00  6.34918213e-02  1.00000000e+00]\n",
      "  [-1.16185760e+00  6.92481995e-02  1.00000000e+00]\n",
      "  [-1.05569458e+00  6.29730225e-02  1.00000000e+00]\n",
      "  [-1.16093922e+00  6.97264671e-02  1.00000000e+00]\n",
      "  [-1.05954170e+00  6.39829636e-02  1.00000000e+00]\n",
      "  [-1.06216908e+00  6.43925667e-02  1.00000000e+00]\n",
      "  [-1.06512547e+00  6.48832321e-02  1.00000000e+00]\n",
      "  [-1.16829872e+00  7.04717636e-02  1.00000000e+00]\n",
      "  [-1.06445312e+00  6.49027824e-02  1.00000000e+00]\n",
      "  [-1.06249237e+00  6.57110214e-02  1.00000000e+00]\n",
      "  [-1.06280708e+00  6.51855469e-02  1.00000000e+00]\n",
      "  [-1.17335939e+00  7.48243332e-02  1.00000000e+00]\n",
      "  [-9.55821037e-01  5.89280128e-02  1.00000000e+00]\n",
      "  [-1.17470026e+00  7.33118057e-02  1.00000000e+00]\n",
      "  [-1.06489015e+00  6.64920807e-02  1.00000000e+00]]\n",
      "\n",
      " [[ 0.00000000e+00  0.00000000e+00  1.00000000e+00]\n",
      "  [-1.00371552e+00  3.33435535e-02  1.00000000e+00]\n",
      "  [-9.37103271e-01  2.85809040e-02  1.00000000e+00]\n",
      "  [-1.22236252e+00  1.97180510e-01  1.00000000e+00]\n",
      "  [-9.67788696e-01  4.69539165e-02  1.00000000e+00]\n",
      "  [-1.09129333e+00  2.65965462e-02  1.00000000e+00]\n",
      "  [-1.01137543e+00  5.44488430e-02  1.00000000e+00]\n",
      "  [-5.96687317e-01 -5.39202690e-02  1.00000000e+00]\n",
      "  [-1.16231155e+00  8.88121128e-02  1.00000000e+00]\n",
      "  [-7.94261932e-01  5.44722080e-02  1.00000000e+00]\n",
      "  [-1.27439499e+00  7.51562119e-02  1.00000000e+00]\n",
      "  [-9.18838501e-01 -2.87532806e-03  1.00000000e+00]\n",
      "  [-9.81681824e-01  6.81898594e-02  1.00000000e+00]\n",
      "  [-1.07984161e+00  9.16705132e-02  1.00000000e+00]\n",
      "  [-8.50528717e-01 -1.89883709e-02  1.00000000e+00]\n",
      "  [-7.59021759e-01  4.92150784e-02  1.00000000e+00]\n",
      "  [-6.64833069e-01  2.47101784e-02  1.00000000e+00]\n",
      "  [-1.14341736e+00  1.15750074e-01  1.00000000e+00]\n",
      "  [-1.13076782e+00  1.75137520e-02  1.00000000e+00]\n",
      "  [-8.53660583e-01  2.18763351e-02  1.00000000e+00]]\n",
      "\n",
      " [[ 0.00000000e+00  0.00000000e+00  1.00000000e+00]\n",
      "  [ 8.22120667e-01 -6.10077381e-02  1.00000000e+00]\n",
      "  [ 7.63580322e-01 -7.72917271e-02  1.00000000e+00]\n",
      "  [ 9.53170776e-01 -3.26776505e-02  1.00000000e+00]\n",
      "  [ 8.94374847e-01 -3.88691425e-02  1.00000000e+00]\n",
      "  [ 1.07543564e+00 -6.90493584e-02  1.00000000e+00]\n",
      "  [ 1.08184052e+00 -1.01385355e-01  1.00000000e+00]\n",
      "  [ 1.03485489e+00 -4.84473705e-02  1.00000000e+00]\n",
      "  [ 1.00218582e+00 -9.68010426e-02  1.00000000e+00]\n",
      "  [ 9.22153473e-01 -2.75583267e-02  1.00000000e+00]\n",
      "  [ 1.14273453e+00 -6.29725456e-02  1.00000000e+00]\n",
      "  [ 9.58728790e-01 -8.11984539e-02  1.00000000e+00]\n",
      "  [ 3.05198669e-01 -1.57327414e-01  1.00000000e+00]\n",
      "  [ 1.07354355e+00 -2.99241543e-02  1.00000000e+00]\n",
      "  [ 9.34368134e-01 -1.43028259e-01  1.00000000e+00]\n",
      "  [ 9.38434601e-01 -1.64911985e-01  1.00000000e+00]\n",
      "  [ 1.12944031e+00  1.69219017e-01  1.00000000e+00]\n",
      "  [ 1.08028412e+00 -2.88574696e-02  1.00000000e+00]\n",
      "  [ 1.15554810e+00 -7.27097988e-02  1.00000000e+00]\n",
      "  [ 1.16088867e+00 -7.58881569e-02  1.00000000e+00]]\n",
      "\n",
      " [[ 0.00000000e+00  0.00000000e+00  0.00000000e+00]\n",
      "  [ 0.00000000e+00  0.00000000e+00  0.00000000e+00]\n",
      "  [ 0.00000000e+00  0.00000000e+00  0.00000000e+00]\n",
      "  [ 0.00000000e+00  0.00000000e+00  0.00000000e+00]\n",
      "  [ 0.00000000e+00  0.00000000e+00  0.00000000e+00]\n",
      "  [ 0.00000000e+00  0.00000000e+00  0.00000000e+00]\n",
      "  [ 0.00000000e+00  0.00000000e+00  0.00000000e+00]\n",
      "  [ 0.00000000e+00  0.00000000e+00  0.00000000e+00]\n",
      "  [ 0.00000000e+00  0.00000000e+00  0.00000000e+00]\n",
      "  [ 0.00000000e+00  0.00000000e+00  0.00000000e+00]\n",
      "  [ 0.00000000e+00  0.00000000e+00  0.00000000e+00]\n",
      "  [ 0.00000000e+00  0.00000000e+00  0.00000000e+00]\n",
      "  [ 0.00000000e+00  0.00000000e+00  0.00000000e+00]\n",
      "  [ 0.00000000e+00  0.00000000e+00  0.00000000e+00]\n",
      "  [ 0.00000000e+00  0.00000000e+00  0.00000000e+00]\n",
      "  [ 0.00000000e+00  0.00000000e+00  1.00000000e+00]\n",
      "  [-2.42693424e-01  1.44643784e-02  1.00000000e+00]\n",
      "  [ 1.25996304e+00 -7.00397491e-02  1.00000000e+00]\n",
      "  [ 0.00000000e+00  0.00000000e+00  1.00000000e+00]\n",
      "  [-2.64425278e-01  2.74801254e-03  1.00000000e+00]]\n",
      "\n",
      " [[ 0.00000000e+00  0.00000000e+00  1.00000000e+00]\n",
      "  [ 1.58969879e-01 -3.54576111e-02  1.00000000e+00]\n",
      "  [ 1.45017624e-01  2.96592712e-02  1.00000000e+00]\n",
      "  [ 1.40157700e-01 -5.95722198e-02  1.00000000e+00]\n",
      "  [ 1.63117409e-01  8.53538513e-03  1.00000000e+00]\n",
      "  [ 1.41198158e-01 -5.33714294e-02  1.00000000e+00]\n",
      "  [ 2.44351387e-01 -7.11936951e-02  1.00000000e+00]\n",
      "  [ 1.42336845e-01 -9.67159271e-02  1.00000000e+00]\n",
      "  [ 1.47330284e-01 -4.44602966e-02  1.00000000e+00]\n",
      "  [ 1.42807961e-01 -3.89099121e-02  1.00000000e+00]\n",
      "  [ 1.29755974e-01 -3.99398804e-02  1.00000000e+00]\n",
      "  [ 1.17213249e-01 -9.76886749e-02  1.00000000e+00]\n",
      "  [ 1.01896286e-01 -1.39835358e-01  1.00000000e+00]\n",
      "  [ 1.35412216e-01 -4.21581268e-02  1.00000000e+00]\n",
      "  [ 9.53130722e-02 -4.02221680e-02  1.00000000e+00]\n",
      "  [ 1.54660225e-01 -5.15289307e-02  1.00000000e+00]\n",
      "  [ 1.21675491e-01 -3.45668793e-02  1.00000000e+00]\n",
      "  [ 2.56020546e-01  1.12953186e-02  1.00000000e+00]\n",
      "  [ 1.71946526e-01 -6.52713776e-02  1.00000000e+00]\n",
      "  [ 1.12892151e-01 -6.25438690e-02  1.00000000e+00]]\n",
      "\n",
      " [[ 0.00000000e+00  0.00000000e+00  1.00000000e+00]\n",
      "  [-5.75752258e-02 -4.22967911e-01  1.00000000e+00]\n",
      "  [-2.40207672e-01 -2.77967834e+00  1.00000000e+00]\n",
      "  [-7.25193024e-02 -3.62190247e-01  1.00000000e+00]\n",
      "  [-1.44561768e-01  2.05707550e-01  1.00000000e+00]\n",
      "  [-9.27162170e-02  7.48489380e-01  1.00000000e+00]\n",
      "  [-1.01852417e-03 -8.01696777e-02  1.00000000e+00]\n",
      "  [-5.59616089e-02  1.53713226e-02  1.00000000e+00]\n",
      "  [ 6.88705444e-02  8.11576843e-02  1.00000000e+00]\n",
      "  [ 1.31282806e-02  3.02677155e-02  1.00000000e+00]\n",
      "  [-2.23445892e-02 -8.92543793e-02  1.00000000e+00]\n",
      "  [ 7.12776184e-02  1.52631760e-01  1.00000000e+00]\n",
      "  [-5.90076447e-02 -6.37550354e-02  1.00000000e+00]\n",
      "  [-4.99839783e-02 -1.66435242e-02  1.00000000e+00]\n",
      "  [-4.45175171e-02  2.62603760e-02  1.00000000e+00]\n",
      "  [ 2.69985199e-02 -5.46703339e-02  1.00000000e+00]\n",
      "  [-3.55930328e-02  5.58319092e-02  1.00000000e+00]\n",
      "  [-4.79526520e-02 -5.12313843e-03  1.00000000e+00]\n",
      "  [ 3.94821167e-02 -3.26347351e-03  1.00000000e+00]\n",
      "  [-6.86664581e-02  5.90000153e-02  1.00000000e+00]]\n",
      "\n",
      " [[ 0.00000000e+00  0.00000000e+00  0.00000000e+00]\n",
      "  [ 0.00000000e+00  0.00000000e+00  0.00000000e+00]\n",
      "  [ 0.00000000e+00  0.00000000e+00  1.00000000e+00]\n",
      "  [ 0.00000000e+00  0.00000000e+00  1.00000000e+00]\n",
      "  [ 0.00000000e+00  0.00000000e+00  1.00000000e+00]\n",
      "  [-1.08456993e+00  1.57840729e-01  1.00000000e+00]\n",
      "  [ 1.75178528e-01 -5.47180176e-02  1.00000000e+00]\n",
      "  [ 2.06102371e-01  3.15563202e-01  1.00000000e+00]\n",
      "  [-1.70961380e-01  2.38399506e-01  1.00000000e+00]\n",
      "  [-1.30472183e-01 -4.62951660e-02  1.00000000e+00]\n",
      "  [-5.64765930e-02  5.75408936e-02  1.00000000e+00]\n",
      "  [ 8.08544159e-02  1.82983398e-01  1.00000000e+00]\n",
      "  [ 1.04240417e-01 -1.68571472e-02  1.00000000e+00]\n",
      "  [ 1.07631683e-02  2.53490448e-01  1.00000000e+00]\n",
      "  [-2.28881836e-03 -6.10198975e-02  1.00000000e+00]\n",
      "  [-4.01287079e-02 -3.38134766e-02  1.00000000e+00]\n",
      "  [ 6.87828064e-02  1.79351807e-01  1.00000000e+00]\n",
      "  [-1.50375366e-02 -1.54575348e-01  1.00000000e+00]\n",
      "  [ 8.56971741e-03  7.16514587e-02  1.00000000e+00]\n",
      "  [-5.31997681e-02 -2.65693665e-02  1.00000000e+00]]\n",
      "\n",
      " [[ 0.00000000e+00  0.00000000e+00  0.00000000e+00]\n",
      "  [ 0.00000000e+00  0.00000000e+00  0.00000000e+00]\n",
      "  [ 0.00000000e+00  0.00000000e+00  0.00000000e+00]\n",
      "  [ 0.00000000e+00  0.00000000e+00  0.00000000e+00]\n",
      "  [ 0.00000000e+00  0.00000000e+00  0.00000000e+00]\n",
      "  [ 0.00000000e+00  0.00000000e+00  0.00000000e+00]\n",
      "  [ 0.00000000e+00  0.00000000e+00  1.00000000e+00]\n",
      "  [ 8.52317810e-02  1.02382660e-01  1.00000000e+00]\n",
      "  [ 3.48110199e-02 -1.17111206e-02  1.00000000e+00]\n",
      "  [-6.33563995e-02  1.32751465e-02  1.00000000e+00]\n",
      "  [ 3.53584290e-02  5.17539978e-02  1.00000000e+00]\n",
      "  [-1.54317856e-01 -2.25341797e-01  1.00000000e+00]\n",
      "  [ 1.29991531e-01 -8.89701843e-02  1.00000000e+00]\n",
      "  [-1.09298706e-01  1.72824860e-01  1.00000000e+00]\n",
      "  [-8.86211395e-02  1.13868713e-02  1.00000000e+00]\n",
      "  [ 6.91127777e-02 -1.02127075e-01  1.00000000e+00]\n",
      "  [ 9.39559937e-03  6.01310730e-02  1.00000000e+00]\n",
      "  [-3.43513489e-02 -5.37261963e-02  1.00000000e+00]\n",
      "  [ 0.00000000e+00  0.00000000e+00  1.00000000e+00]\n",
      "  [ 0.00000000e+00  0.00000000e+00  1.00000000e+00]]\n",
      "\n",
      " [[ 0.00000000e+00  0.00000000e+00  0.00000000e+00]\n",
      "  [ 0.00000000e+00  0.00000000e+00  0.00000000e+00]\n",
      "  [ 0.00000000e+00  0.00000000e+00  0.00000000e+00]\n",
      "  [ 0.00000000e+00  0.00000000e+00  0.00000000e+00]\n",
      "  [ 0.00000000e+00  0.00000000e+00  0.00000000e+00]\n",
      "  [ 0.00000000e+00  0.00000000e+00  0.00000000e+00]\n",
      "  [ 0.00000000e+00  0.00000000e+00  0.00000000e+00]\n",
      "  [ 0.00000000e+00  0.00000000e+00  1.00000000e+00]\n",
      "  [ 1.13194466e-01 -2.05802917e-02  1.00000000e+00]\n",
      "  [ 1.34402752e-01 -3.77922058e-02  1.00000000e+00]\n",
      "  [ 0.00000000e+00  0.00000000e+00  1.00000000e+00]\n",
      "  [ 2.37763882e-01 -4.46796417e-02  1.00000000e+00]\n",
      "  [ 1.20488167e-01 -2.18725204e-02  1.00000000e+00]\n",
      "  [ 1.02028847e-01 -2.76651382e-02  1.00000000e+00]\n",
      "  [ 0.00000000e+00  0.00000000e+00  1.00000000e+00]\n",
      "  [ 2.15032101e-01 -3.04698944e-02  1.00000000e+00]\n",
      "  [ 1.47909164e-01 -3.69653702e-02  1.00000000e+00]\n",
      "  [ 1.00760937e-01 -3.12156677e-02  1.00000000e+00]\n",
      "  [ 0.00000000e+00  0.00000000e+00  1.00000000e+00]\n",
      "  [ 0.00000000e+00  0.00000000e+00  1.00000000e+00]]\n",
      "\n",
      " [[ 0.00000000e+00  0.00000000e+00  0.00000000e+00]\n",
      "  [ 0.00000000e+00  0.00000000e+00  0.00000000e+00]\n",
      "  [ 0.00000000e+00  0.00000000e+00  0.00000000e+00]\n",
      "  [ 0.00000000e+00  0.00000000e+00  0.00000000e+00]\n",
      "  [ 0.00000000e+00  0.00000000e+00  1.00000000e+00]\n",
      "  [ 8.02116394e-02  6.03397369e-01  1.00000000e+00]\n",
      "  [ 4.67891693e-02  1.61453247e-01  1.00000000e+00]\n",
      "  [ 1.50465012e-01  4.97383118e-01  1.00000000e+00]\n",
      "  [ 1.08509064e-01  4.77844238e-01  1.00000000e+00]\n",
      "  [ 2.55622864e-02  3.94538879e-01  1.00000000e+00]\n",
      "  [ 1.03998184e-01  4.02942657e-01  1.00000000e+00]\n",
      "  [ 9.76276398e-02  5.47443390e-01  1.00000000e+00]\n",
      "  [ 8.78868103e-02  3.14479828e-01  1.00000000e+00]\n",
      "  [ 1.39871597e-01  8.03291321e-01  1.00000000e+00]\n",
      "  [-5.55477142e-02  4.84832764e-01  1.00000000e+00]\n",
      "  [ 4.13951874e-02  4.97627258e-01  1.00000000e+00]\n",
      "  [ 2.26280212e-01  4.53060150e-01  1.00000000e+00]\n",
      "  [ 3.87382507e-02  6.87286377e-01  1.00000000e+00]\n",
      "  [ 2.96039581e-02  3.60214233e-01  1.00000000e+00]\n",
      "  [ 0.00000000e+00  0.00000000e+00  1.00000000e+00]]\n",
      "\n",
      " [[ 0.00000000e+00  0.00000000e+00  0.00000000e+00]\n",
      "  [ 0.00000000e+00  0.00000000e+00  0.00000000e+00]\n",
      "  [ 0.00000000e+00  0.00000000e+00  0.00000000e+00]\n",
      "  [ 0.00000000e+00  0.00000000e+00  1.00000000e+00]\n",
      "  [-6.87501907e-01  8.80920410e-01  1.00000000e+00]\n",
      "  [-5.61523438e-02 -2.36700058e-01  1.00000000e+00]\n",
      "  [ 1.47529602e-01 -2.89648056e-01  1.00000000e+00]\n",
      "  [ 8.07781219e-02  1.47211075e-01  1.00000000e+00]\n",
      "  [ 8.55674744e-02 -9.29069519e-03  1.00000000e+00]\n",
      "  [ 1.03561401e-01 -1.66702271e-02  1.00000000e+00]\n",
      "  [-3.43208313e-02 -1.96697235e-01  1.00000000e+00]\n",
      "  [ 7.92312622e-03  2.28061676e-01  1.00000000e+00]\n",
      "  [ 4.41627502e-02 -5.41706085e-02  1.00000000e+00]\n",
      "  [ 4.66156006e-03  5.61752319e-02  1.00000000e+00]\n",
      "  [-3.84750366e-02 -9.62429047e-02  1.00000000e+00]\n",
      "  [ 2.93655396e-02  3.19938660e-02  1.00000000e+00]\n",
      "  [-2.98557281e-02 -4.66804504e-02  1.00000000e+00]\n",
      "  [ 3.64303589e-04  4.98161316e-02  1.00000000e+00]\n",
      "  [-1.93786621e-02  3.31325531e-02  1.00000000e+00]\n",
      "  [-2.36110687e-02  2.15530396e-02  1.00000000e+00]]\n",
      "\n",
      " [[ 0.00000000e+00  0.00000000e+00  0.00000000e+00]\n",
      "  [ 0.00000000e+00  0.00000000e+00  0.00000000e+00]\n",
      "  [ 0.00000000e+00  0.00000000e+00  0.00000000e+00]\n",
      "  [ 0.00000000e+00  0.00000000e+00  0.00000000e+00]\n",
      "  [ 0.00000000e+00  0.00000000e+00  0.00000000e+00]\n",
      "  [ 0.00000000e+00  0.00000000e+00  0.00000000e+00]\n",
      "  [ 0.00000000e+00  0.00000000e+00  0.00000000e+00]\n",
      "  [ 0.00000000e+00  0.00000000e+00  0.00000000e+00]\n",
      "  [ 0.00000000e+00  0.00000000e+00  0.00000000e+00]\n",
      "  [ 0.00000000e+00  0.00000000e+00  0.00000000e+00]\n",
      "  [ 0.00000000e+00  0.00000000e+00  1.00000000e+00]\n",
      "  [ 1.76288605e-01 -9.06677246e-02  1.00000000e+00]\n",
      "  [-1.12419128e-02  1.40808105e-01  1.00000000e+00]\n",
      "  [-4.13684845e-02 -5.82618713e-02  1.00000000e+00]\n",
      "  [ 4.48226929e-02 -3.23867798e-02  1.00000000e+00]\n",
      "  [ 3.26862335e-02  3.51409912e-02  1.00000000e+00]\n",
      "  [-1.30119324e-02 -7.75413513e-02  1.00000000e+00]\n",
      "  [ 2.70385742e-02  8.75854492e-02  1.00000000e+00]\n",
      "  [-2.52227783e-02 -6.56814575e-02  1.00000000e+00]\n",
      "  [ 3.34396362e-02  1.97830200e-02  1.00000000e+00]]\n",
      "\n",
      " [[ 0.00000000e+00  0.00000000e+00  0.00000000e+00]\n",
      "  [ 0.00000000e+00  0.00000000e+00  0.00000000e+00]\n",
      "  [ 0.00000000e+00  0.00000000e+00  0.00000000e+00]\n",
      "  [ 0.00000000e+00  0.00000000e+00  0.00000000e+00]\n",
      "  [ 0.00000000e+00  0.00000000e+00  0.00000000e+00]\n",
      "  [ 0.00000000e+00  0.00000000e+00  0.00000000e+00]\n",
      "  [ 0.00000000e+00  0.00000000e+00  0.00000000e+00]\n",
      "  [ 0.00000000e+00  0.00000000e+00  0.00000000e+00]\n",
      "  [ 0.00000000e+00  0.00000000e+00  1.00000000e+00]\n",
      "  [-2.27830887e-01 -5.40046692e-01  1.00000000e+00]\n",
      "  [ 9.72690582e-02 -2.66899109e-01  1.00000000e+00]\n",
      "  [-1.27426147e-01 -3.49304199e-01  1.00000000e+00]\n",
      "  [-2.73735046e-01 -3.57833862e-01  1.00000000e+00]\n",
      "  [-1.31290436e-01 -3.34083557e-01  1.00000000e+00]\n",
      "  [-1.68100357e-01 -3.54492188e-01  1.00000000e+00]\n",
      "  [-5.36727905e-02 -3.89656067e-01  1.00000000e+00]\n",
      "  [-3.71322632e-01 -5.75538635e-01  1.00000000e+00]\n",
      "  [-6.61518097e-01 -1.48076630e+00  1.00000000e+00]\n",
      "  [ 0.00000000e+00  0.00000000e+00  1.00000000e+00]\n",
      "  [ 0.00000000e+00  0.00000000e+00  1.00000000e+00]]\n",
      "\n",
      " [[ 0.00000000e+00  0.00000000e+00  0.00000000e+00]\n",
      "  [ 0.00000000e+00  0.00000000e+00  0.00000000e+00]\n",
      "  [ 0.00000000e+00  0.00000000e+00  0.00000000e+00]\n",
      "  [ 0.00000000e+00  0.00000000e+00  0.00000000e+00]\n",
      "  [ 0.00000000e+00  0.00000000e+00  0.00000000e+00]\n",
      "  [ 0.00000000e+00  0.00000000e+00  0.00000000e+00]\n",
      "  [ 0.00000000e+00  0.00000000e+00  0.00000000e+00]\n",
      "  [ 0.00000000e+00  0.00000000e+00  0.00000000e+00]\n",
      "  [ 0.00000000e+00  0.00000000e+00  0.00000000e+00]\n",
      "  [ 0.00000000e+00  0.00000000e+00  0.00000000e+00]\n",
      "  [ 0.00000000e+00  0.00000000e+00  0.00000000e+00]\n",
      "  [ 0.00000000e+00  0.00000000e+00  0.00000000e+00]\n",
      "  [ 0.00000000e+00  0.00000000e+00  0.00000000e+00]\n",
      "  [ 0.00000000e+00  0.00000000e+00  0.00000000e+00]\n",
      "  [ 0.00000000e+00  0.00000000e+00  0.00000000e+00]\n",
      "  [ 0.00000000e+00  0.00000000e+00  0.00000000e+00]\n",
      "  [ 0.00000000e+00  0.00000000e+00  0.00000000e+00]\n",
      "  [ 0.00000000e+00  0.00000000e+00  0.00000000e+00]\n",
      "  [ 0.00000000e+00  0.00000000e+00  1.00000000e+00]\n",
      "  [ 0.00000000e+00  0.00000000e+00  1.00000000e+00]]]\n",
      "[[ 4.6114681e-05 -3.6667163e-05]\n",
      " [ 3.8426368e+00  5.5743723e+00]\n",
      " [ 3.5308254e+01  3.0290070e+00]\n",
      " [ 5.4342434e+01 -3.3777633e+00]\n",
      " [ 3.9807992e+00 -5.2585692e+00]\n",
      " [ 1.3683155e+01  1.6167362e+01]\n",
      " [ 2.1898657e+01  1.9772411e+01]\n",
      " [ 2.3290489e+01  3.9054996e+01]\n",
      " [ 1.9855339e+01  6.1771530e+01]\n",
      " [ 5.2216330e+00  8.6942425e+00]\n",
      " [ 2.2261822e+01  4.9329517e+01]\n",
      " [ 2.2295412e+01  2.5949045e+01]\n",
      " [ 2.2911255e+01  3.2972477e+01]\n",
      " [ 1.6882519e+01  6.4933487e+01]\n",
      " [ 2.8670206e+01  7.7494675e+01]]\n"
     ]
    }
   ],
   "source": [
    "print(data['feats'])\n",
    "print(data['ctrs'])\n",
    "\n",
    "\n"
   ]
  },
  {
   "cell_type": "code",
   "execution_count": null,
   "metadata": {},
   "outputs": [
    {
     "name": "stdout",
     "output_type": "stream",
     "text": [
      "15 30\n",
      "[[ True  True  True  True  True  True  True  True  True  True  True  True\n",
      "   True  True  True  True  True  True  True  True  True  True  True  True\n",
      "   True  True  True  True  True  True]\n",
      " [ True  True  True  True  True  True  True  True  True  True  True  True\n",
      "   True  True  True  True  True  True  True  True  True  True  True  True\n",
      "   True  True  True  True  True  True]\n",
      " [ True  True  True  True  True  True  True  True  True  True  True  True\n",
      "   True  True  True  True  True  True  True  True  True  True  True  True\n",
      "   True  True  True  True  True  True]\n",
      " [ True  True  True  True  True  True  True  True  True  True  True  True\n",
      "   True  True  True  True  True  True False False False False False False\n",
      "  False False False False False False]\n",
      " [ True  True  True False False False False False False False False False\n",
      "  False False False False False False False False False False False False\n",
      "  False False False False False False]\n",
      " [ True  True  True  True  True False False False False False False False\n",
      "  False False False False False False False False False False False False\n",
      "  False False False False False False]\n",
      " [ True  True  True  True  True  True  True False False False False False\n",
      "  False False False False False False False False False False False False\n",
      "  False False False False False False]\n",
      " [ True  True  True False False False False False False False False False\n",
      "  False False False False False False False False False False False False\n",
      "  False False False False False False]\n",
      " [ True False False False False False False False False False False False\n",
      "  False False False False False False False False False False False False\n",
      "  False False False False False False]\n",
      " [False False False False False False False False False False False False\n",
      "  False False False False False False False False False False False False\n",
      "  False False False False False False]\n",
      " [ True  True False False False False False False False False False False\n",
      "  False False False False False False False False False False False False\n",
      "  False False False False False False]\n",
      " [ True  True  True  True  True False False False False False False False\n",
      "  False False False False False False False False False False False False\n",
      "  False False False False False False]\n",
      " [ True  True  True  True False False False False False False False False\n",
      "  False False False False False False False False False False False False\n",
      "  False False False False False False]\n",
      " [ True False False False False False False False False False False False\n",
      "  False False False False False False False False False False False False\n",
      "  False False False False False False]\n",
      " [ True  True False False False False False False False False False False\n",
      "  False False False False False False False False False False False False\n",
      "  False False False False False False]]\n"
     ]
    }
   ],
   "source": [
    "print(len(data['gt_preds']), len(data['gt_preds'][0]))\n",
    "print(data['has_preds'])"
   ]
  },
  {
   "cell_type": "code",
   "execution_count": null,
   "metadata": {},
   "outputs": [],
   "source": [
    "config = dict()\n",
    "config[\"pred_range\"] = [-100.0, 100.0, -100.0, 100.0]\n",
    "x_min, x_max, y_min, y_max = config['pred_range']\n",
    "radius = max(abs(x_min), abs(x_max)) + max(abs(y_min), abs(y_max))"
   ]
  },
  {
   "cell_type": "code",
   "execution_count": null,
   "metadata": {},
   "outputs": [
    {
     "name": "stdout",
     "output_type": "stream",
     "text": [
      "[9604896, 9604938, 9604939, 9608485, 9608489, 9608492, 9608507, 9608514, 9608520, 9608521, 9608564, 9608565, 9608597, 9608614, 9608680, 9608688, 9608690, 9608695, 9608697, 9608700, 9608702, 9608707, 9608710, 9608711, 9608712, 9608749, 9608750, 9608752, 9608756, 9608773, 9608775, 9608777, 9608841, 9608867, 9608870, 9608871, 9608922, 9608923, 9608963, 9608968, 9608969, 9608973, 9608975, 9608977, 9608982, 9608990, 9609028, 9609030, 9609032, 9609040, 9609041, 9609044, 9609045, 9609050, 9609051, 9609052, 9609062, 9609092, 9609117, 9609161, 9609162, 9609254, 9609255, 9609256, 9609257, 9609271, 9609285, 9609292, 9609293, 9609297, 9609298, 9609301, 9609431, 9609441, 9609443, 9609468, 9609477, 9609491, 9609503, 9609514, 9609548, 9609549, 9609633, 9609653, 9609659, 9609664, 9609669, 9609679, 9609689, 9609695, 9609698, 9609699, 9609705, 9609713, 9609714, 9609733, 9609752, 9609754, 9609755, 9609756, 9609757, 9609758, 9609764, 9609765, 9609766, 9609767, 9609768, 9609769, 9609772, 9609774, 9609775, 9609783, 9609787, 9609810, 9609833, 9609837, 9609895, 9610087, 9610088, 9610091, 9610132, 9610136, 9610137, 9610143, 9610149, 9610150, 9610151, 9610152, 9610153, 9610154, 9610159, 9610160, 9610172, 9610185, 9610204, 9610205, 9610220, 9610272, 9610274, 9610315, 9610317, 9610324, 9610325, 9610326, 9610327, 9610471, 9610501, 9610506, 9610512, 9610516, 9610611, 9610622, 9610623, 9610634, 9610661, 9610679, 9610691, 9610703, 9610712, 9610714, 9610718, 9610721, 9610724, 9610737, 9610756, 9610762, 9610771, 9610791, 9610810, 9610816, 9610819, 9610843, 9610845, 9610848, 9610851, 9610852, 9610856, 9610857, 9610861, 9610863, 9610876, 9610913, 9610980, 9611015, 9611020, 9611055, 9611067, 9611068, 9611075, 9611114, 9611123, 9611125, 9611150, 9611161, 9611164, 9611166, 9611170, 9611174, 9611180, 9611185, 9611189, 9611216, 9611222, 9611318, 9611400, 9611424, 9611450, 9611465, 9611478, 9611480, 9611481, 9611485, 9611486, 9611487, 9611495, 9611497, 9611500, 9611507, 9611508, 9611509, 9611511, 9611517, 9611519, 9611524, 9611526, 9611544, 9611546, 9611556, 9611557, 9611562, 9611563, 9611564, 9611565, 9611566, 9611586, 9611598, 9611600, 9611619, 9611623, 9611626, 9611639, 9611640, 9611648, 9611649, 9611650, 9611651, 9611674, 9611675, 9611682, 9611683, 9612570, 9612818, 9612969, 9612970, 9613031, 9613032, 9614271, 9614277, 9614280, 9614281, 9614282, 9614283, 9614287, 9614290, 9614294, 9614295, 9614301, 9614302, 9614305, 9614310, 9614312, 9614315, 9614365, 9614371, 9614372, 9614388, 9614396, 9614397, 9614462, 9614465, 9614466, 9614475, 9614480, 9614483, 9614487, 9614488, 9614500, 9614505, 9614533, 9614570, 9614846, 9614847, 9614927, 9615126, 9615189, 9615247, 9615251, 9615252, 9615254, 9615295, 9615300, 9615372, 9615373, 9615383, 9615395, 9615411, 9615420, 9615448, 9615473, 9615474, 9615492, 9615501, 9615507, 9615561, 9615562, 9615569, 9615572, 9615617, 9615619, 9615636, 9615650, 9615674, 9615704, 9615711, 9615712, 9615780, 9617757, 9618400, 9618407, 9618416, 9618417, 9618424, 9618431, 9618434, 9618437, 9618445, 9618448, 9618449, 9618452] 339\n"
     ]
    }
   ],
   "source": [
    "# data['graph'] = dataset.get_lane_graph(data)\n",
    "lane_ids = am.get_lane_ids_in_xy_bbox(data['orig'][0], data['orig'][1], data['city'], radius)\n",
    "print(lane_ids, len(lane_ids))\n",
    "import copy\n",
    "lane_ids = copy.deepcopy(lane_ids)"
   ]
  },
  {
   "cell_type": "code",
   "execution_count": null,
   "metadata": {},
   "outputs": [],
   "source": [
    "lanes = dict()\n",
    "for lane_id in lane_ids:\n",
    "    lane = am.city_lane_centerlines_dict[data['city']][lane_id]\n",
    "    lane = copy.deepcopy(lane)\n",
    "    centerline = np.matmul(data['rot'], (lane.centerline - data['orig'].reshape(-1, 2)).T).T\n",
    "    x, y = centerline[:, 0], centerline[:, 1]\n",
    "    if x.max() < x_min or x.min() > x_max or y.max() < y_min or y.min() > y_max:\n",
    "        continue\n",
    "    else:\n",
    "        \"\"\"Getting polygons requires original centerline\"\"\"\n",
    "        polygon = am.get_lane_segment_polygon(lane_id, data['city'])\n",
    "        polygon = copy.deepcopy(polygon)\n",
    "        lane.centerline = centerline\n",
    "        lane.polygon = np.matmul(data['rot'], (polygon[:, :2] - data['orig'].reshape(-1, 2)).T).T\n",
    "        lanes[lane_id] = lane"
   ]
  },
  {
   "cell_type": "code",
   "execution_count": null,
   "metadata": {},
   "outputs": [
    {
     "name": "stdout",
     "output_type": "stream",
     "text": [
      "[[1632.67397413  371.69958188           nan]\n",
      " [1634.65956277  373.38887433           nan]\n",
      " [1636.64515141  375.07816678           nan]\n",
      " [1638.63074005  376.76745924           nan]\n",
      " [1640.61632869  378.45675169           nan]\n",
      " [1642.60450151  380.14823873           nan]\n",
      " [1644.6002639   381.83394855           nan]\n",
      " [1646.59713393  383.51307175           nan]\n",
      " [1648.58458021  385.18423313           nan]\n",
      " [1650.55362728  386.87657855           nan]\n",
      " [1653.03047489  383.99469967           nan]\n",
      " [1651.04585128  382.28903976           nan]\n",
      " [1649.04275867  380.60464956           nan]\n",
      " [1647.04908981  378.92822117           nan]\n",
      " [1645.06170188  377.24958968           nan]\n",
      " [1643.07869742  375.56249181           nan]\n",
      " [1641.09310878  373.87319936           nan]\n",
      " [1639.10752014  372.18390691           nan]\n",
      " [1637.1219315   370.49461445           nan]\n",
      " [1635.13634286  368.805322             nan]\n",
      " [1632.67397413  371.69958188           nan]]\n"
     ]
    },
    {
     "data": {
      "text/plain": [
       "<matplotlib.collections.PathCollection at 0x7fd899296dd8>"
      ]
     },
     "execution_count": 32,
     "metadata": {},
     "output_type": "execute_result"
    },
    {
     "data": {
      "image/png": "[encoded data removed]",
      "text/plain": [
       "<Figure size 432x288 with 1 Axes>"
      ]
     },
     "metadata": {
      "needs_background": "light"
     },
     "output_type": "display_data"
    }
   ],
   "source": [
    "print(polygon)\n",
    "plt.scatter(polygon[:,0], polygon[:,1])"
   ]
  },
  {
   "cell_type": "code",
   "execution_count": null,
   "metadata": {},
   "outputs": [
    {
     "name": "stdout",
     "output_type": "stream",
     "text": [
      "83\n"
     ]
    }
   ],
   "source": [
    "print(len(lanes))"
   ]
  },
  {
   "cell_type": "code",
   "execution_count": null,
   "metadata": {},
   "outputs": [],
   "source": [
    "lane_ids = list(lanes.keys())\n",
    "ctrs, feats, turn, control, intersect = [], [], [], [], []\n",
    "for lane_id in lane_ids:\n",
    "    lane = lanes[lane_id]\n",
    "    ctrln = lane.centerline\n",
    "    num_segs = len(ctrln) - 1\n",
    "    \n",
    "    ctrs.append(np.asarray((ctrln[:-1] + ctrln[1:]) / 2.0, np.float32))\n",
    "    feats.append(np.asarray(ctrln[1:] - ctrln[:-1], np.float32))\n",
    "    \n",
    "    x = np.zeros((num_segs, 2), np.float32)\n",
    "    if lane.turn_direction == 'LEFT':\n",
    "        x[:, 0] = 1\n",
    "    elif lane.turn_direction == 'RIGHT':\n",
    "        x[:, 1] = 1\n",
    "    else:\n",
    "        pass\n",
    "    turn.append(x)\n",
    "    control.append(lane.has_traffic_control * np.ones(num_segs, np.float32))\n",
    "    intersect.append(lane.is_intersection * np.ones(num_segs, np.float32))\n",
    "            "
   ]
  },
  {
   "cell_type": "code",
   "execution_count": null,
   "metadata": {},
   "outputs": [
    {
     "name": "stdout",
     "output_type": "stream",
     "text": [
      "[[-115.80196848   83.48447972]\n",
      " [-113.1985179    83.34914356]\n",
      " [-110.59506732   83.21380741]\n",
      " [-107.99161674   83.07847126]\n",
      " [-105.38816616   82.9431351 ]\n",
      " [-102.78133      82.80761992]\n",
      " [-100.17294334   82.66269338]\n",
      " [ -97.56827421   82.51221791]\n",
      " [ -94.97592299   82.36242526]\n",
      " [ -92.38240148   82.24066694]\n",
      " [ -92.56064457   78.44484971]\n",
      " [ -95.17463243   78.56762439]\n",
      " [ -97.78744189   78.71854363]\n",
      " [-100.38793343   78.86878005]\n",
      " [-102.98537163   79.01310203]\n",
      " [-105.58543663   79.14825916]\n",
      " [-108.18888721   79.28359531]\n",
      " [-110.79233779   79.41893147]\n",
      " [-113.39578837   79.55426762]\n",
      " [-115.99923895   79.68960378]\n",
      " [-115.80196848   83.48447972]]\n"
     ]
    },
    {
     "data": {
      "image/png": "[encoded data removed]",
      "text/plain": [
       "<Figure size 432x288 with 1 Axes>"
      ]
     },
     "metadata": {
      "needs_background": "light"
     },
     "output_type": "display_data"
    }
   ],
   "source": [
    "x = lane.polygon[:, 0]\n",
    "y = lane.polygon[:, 1]\n",
    "plt.scatter(x, y)\n",
    "print(lane.polygon)"
   ]
  },
  {
   "cell_type": "code",
   "execution_count": null,
   "metadata": {},
   "outputs": [
    {
     "name": "stdout",
     "output_type": "stream",
     "text": [
      "[[-115.90060371   81.58704175]\n",
      " [-113.29715313   81.45170559]\n",
      " [-110.69370255   81.31636944]\n",
      " [-108.09025198   81.18103328]\n",
      " [-105.4868014    81.04569713]\n",
      " [-102.88335082   80.91036098]\n",
      " [-100.28043839   80.76573672]\n",
      " [ -97.67785805   80.61538077]\n",
      " [ -95.07527771   80.46502482]\n",
      " [ -92.47152302   80.34275832]]\n"
     ]
    },
    {
     "data": {
      "text/plain": [
       "<matplotlib.collections.PathCollection at 0x7fd8992786a0>"
      ]
     },
     "execution_count": 23,
     "metadata": {},
     "output_type": "execute_result"
    },
    {
     "data": {
      "image/png": "[encoded data removed]",
      "text/plain": [
       "<Figure size 432x288 with 1 Axes>"
      ]
     },
     "metadata": {
      "needs_background": "light"
     },
     "output_type": "display_data"
    }
   ],
   "source": [
    "a = lane.centerline\n",
    "print(a)\n",
    "x1 = a[:,0]\n",
    "y1 = a[:,1]\n",
    "plt.scatter(x1, y1,)"
   ]
  },
  {
   "cell_type": "code",
   "execution_count": null,
   "metadata": {},
   "outputs": [],
   "source": [
    "ctrln = lane.centerline\n",
    "ctrln\n",
    "num_segs = len(ctrln) - 1"
   ]
  },
  {
   "cell_type": "code",
   "execution_count": null,
   "metadata": {},
   "outputs": [
    {
     "data": {
      "text/plain": [
       "array([[-115.90060371,   81.58704175],\n",
       "       [-113.29715313,   81.45170559],\n",
       "       [-110.69370255,   81.31636944],\n",
       "       [-108.09025198,   81.18103328],\n",
       "       [-105.4868014 ,   81.04569713],\n",
       "       [-102.88335082,   80.91036098],\n",
       "       [-100.28043839,   80.76573672],\n",
       "       [ -97.67785805,   80.61538077],\n",
       "       [ -95.07527771,   80.46502482],\n",
       "       [ -92.47152302,   80.34275832]])"
      ]
     },
     "execution_count": 25,
     "metadata": {},
     "output_type": "execute_result"
    }
   ],
   "source": [
    "ctrln"
   ]
  },
  {
   "cell_type": "code",
   "execution_count": null,
   "metadata": {},
   "outputs": [
    {
     "name": "stdout",
     "output_type": "stream",
     "text": [
      "ctrs: [array([[-114.59888 ,   81.51937 ],\n",
      "       [-111.99543 ,   81.38404 ],\n",
      "       [-109.391975,   81.2487  ],\n",
      "       [-106.78853 ,   81.113365],\n",
      "       [-104.185074,   80.97803 ],\n",
      "       [-101.581894,   80.83805 ],\n",
      "       [ -98.97915 ,   80.69056 ],\n",
      "       [ -96.37657 ,   80.5402  ],\n",
      "       [ -93.7734  ,   80.40389 ]], dtype=float32)]\n",
      "feats: [array([[ 2.6034505 , -0.13533616],\n",
      "       [ 2.6034505 , -0.13533616],\n",
      "       [ 2.6034505 , -0.13533616],\n",
      "       [ 2.6034505 , -0.13533616],\n",
      "       [ 2.6034505 , -0.13533616],\n",
      "       [ 2.6029124 , -0.14462426],\n",
      "       [ 2.6025803 , -0.15035595],\n",
      "       [ 2.6025803 , -0.15035595],\n",
      "       [ 2.6037548 , -0.1222665 ]], dtype=float32)]\n"
     ]
    },
    {
     "data": {
      "text/plain": [
       "array([[-115.90060371,   81.58704175],\n",
       "       [-113.29715313,   81.45170559],\n",
       "       [-110.69370255,   81.31636944],\n",
       "       [-108.09025198,   81.18103328],\n",
       "       [-105.4868014 ,   81.04569713],\n",
       "       [-102.88335082,   80.91036098],\n",
       "       [-100.28043839,   80.76573672],\n",
       "       [ -97.67785805,   80.61538077],\n",
       "       [ -95.07527771,   80.46502482]])"
      ]
     },
     "execution_count": 26,
     "metadata": {},
     "output_type": "execute_result"
    }
   ],
   "source": [
    "ctrs, feats, turn, control, intersect = [], [], [], [], []\n",
    "ctrs.append(np.asarray((ctrln[:-1] + ctrln[1:]) / 2.0, np.float32))\n",
    "feats.append(np.asarray(ctrln[1:] - ctrln[:-1], np.float32))\n",
    "print('ctrs:', ctrs)\n",
    "print('feats:', feats)\n",
    "ctrln[:-1]"
   ]
  },
  {
   "cell_type": "code",
   "execution_count": null,
   "metadata": {},
   "outputs": [
    {
     "name": "stdout",
     "output_type": "stream",
     "text": [
      "[[0. 0.]\n",
      " [0. 0.]\n",
      " [0. 0.]\n",
      " [0. 0.]\n",
      " [0. 0.]\n",
      " [0. 0.]\n",
      " [0. 0.]\n",
      " [0. 0.]\n",
      " [0. 0.]]\n"
     ]
    }
   ],
   "source": [
    "x = np.zeros((num_segs, 2), np.float32)\n",
    "if lane.turn_direction == 'LEFT':\n",
    "    x[:, 0] = 1\n",
    "elif lane.turn_direction == 'RIGHT':\n",
    "    x[:, 1] = 1\n",
    "else:\n",
    "    pass\n",
    "turn.append(x)\n",
    "print(x)"
   ]
  },
  {
   "cell_type": "code",
   "execution_count": null,
   "metadata": {},
   "outputs": [
    {
     "name": "stdout",
     "output_type": "stream",
     "text": [
      "[array([0., 0., 0., 0., 0., 0., 0., 0., 0.], dtype=float32)]\n",
      "[array([0., 0., 0., 0., 0., 0., 0., 0., 0.], dtype=float32)]\n"
     ]
    }
   ],
   "source": [
    "control.append(lane.has_traffic_control * np.ones(num_segs, np.float32))\n",
    "intersect.append(lane.is_intersection * np.ones(num_segs, np.float32))\n",
    "print(control)\n",
    "print(intersect)\n",
    "            "
   ]
  },
  {
   "cell_type": "code",
   "execution_count": null,
   "metadata": {},
   "outputs": [
    {
     "name": "stdout",
     "output_type": "stream",
     "text": [
      "[array([[-114.59888 ,   81.51937 ],\n",
      "       [-111.99543 ,   81.38404 ],\n",
      "       [-109.391975,   81.2487  ],\n",
      "       [-106.78853 ,   81.113365],\n",
      "       [-104.185074,   80.97803 ],\n",
      "       [-101.581894,   80.83805 ],\n",
      "       [ -98.97915 ,   80.69056 ],\n",
      "       [ -96.37657 ,   80.5402  ],\n",
      "       [ -93.7734  ,   80.40389 ]], dtype=float32)]\n",
      "[range(0, 9)] 9\n"
     ]
    }
   ],
   "source": [
    "print(ctrs)\n",
    "node_idcs = []\n",
    "count = 0\n",
    "for i, ctr in enumerate(ctrs):\n",
    "    node_idcs.append(range(count, count + len(ctr)))\n",
    "    count += len(ctr)\n",
    "    print(node_idcs, count)\n",
    "num_nodes = count"
   ]
  },
  {
   "cell_type": "code",
   "execution_count": null,
   "metadata": {},
   "outputs": [
    {
     "name": "stdout",
     "output_type": "stream",
     "text": [
      "[range(0, 9)]\n",
      "9\n",
      "[9604896, 9604939, 9608485, 9608489, 9608492, 9608507, 9608680, 9608707, 9608710, 9608711, 9608712, 9608750, 9608752, 9608773, 9608775, 9608777, 9608867, 9608968, 9608969, 9608973, 9609032, 9609117, 9609271, 9609285, 9609431, 9609548, 9609653, 9609669, 9609679, 9609689, 9609733, 9609755, 9609756, 9609767, 9609774, 9610132, 9610143, 9610150, 9610159, 9610160, 9610204, 9610205, 9610315, 9610317, 9610516, 9610611, 9610661, 9610721, 9610791, 9610816, 9610845, 9610852, 9611150, 9611164, 9611166, 9611180, 9611465, 9611480, 9611495, 9611497, 9611511, 9611524, 9611557, 9611565, 9611639, 9611651, 9611675, 9614280, 9614282, 9614283, 9614287, 9614301, 9614302, 9614305, 9614315, 9614365, 9614371, 9614372, 9614388, 9614396, 9614397, 9615383, 9615704] 83\n",
      "[range(0, 9)] range(0, 9)\n"
     ]
    }
   ],
   "source": [
    "print(node_idcs)\n",
    "print(count)\n",
    "print(lane_ids, len(lane_ids))\n",
    "print(node_idcs, node_idcs[0])"
   ]
  },
  {
   "cell_type": "code",
   "execution_count": null,
   "metadata": {},
   "outputs": [
    {
     "ename": "IndexError",
     "evalue": "list index out of range",
     "output_type": "error",
     "traceback": [
      "\u001b[0;31m---------------------------------------------------------------------------\u001b[0m",
      "\u001b[0;31mIndexError\u001b[0m                                Traceback (most recent call last)",
      "\u001b[0;32m/tmp/ipykernel_57532/3354413891.py\u001b[0m in \u001b[0;36m<module>\u001b[0;34m\u001b[0m\n\u001b[1;32m     22\u001b[0m             \u001b[0mj\u001b[0m \u001b[0;34m=\u001b[0m \u001b[0mlane_ids\u001b[0m\u001b[0;34m.\u001b[0m\u001b[0mindex\u001b[0m\u001b[0;34m(\u001b[0m\u001b[0mnbr_id\u001b[0m\u001b[0;34m)\u001b[0m\u001b[0;34m\u001b[0m\u001b[0m\n\u001b[1;32m     23\u001b[0m             \u001b[0msuc\u001b[0m\u001b[0;34m[\u001b[0m\u001b[0;34m'u'\u001b[0m\u001b[0;34m]\u001b[0m\u001b[0;34m.\u001b[0m\u001b[0mappend\u001b[0m\u001b[0;34m(\u001b[0m\u001b[0midcs\u001b[0m\u001b[0;34m[\u001b[0m\u001b[0;34m-\u001b[0m\u001b[0;36m1\u001b[0m\u001b[0;34m]\u001b[0m\u001b[0;34m)\u001b[0m\u001b[0;34m\u001b[0m\u001b[0m\n\u001b[0;32m---> 24\u001b[0;31m             \u001b[0msuc\u001b[0m\u001b[0;34m[\u001b[0m\u001b[0;34m'v'\u001b[0m\u001b[0;34m]\u001b[0m\u001b[0;34m.\u001b[0m\u001b[0mappend\u001b[0m\u001b[0;34m(\u001b[0m\u001b[0mnode_idcs\u001b[0m\u001b[0;34m[\u001b[0m\u001b[0mj\u001b[0m\u001b[0;34m]\u001b[0m\u001b[0;34m[\u001b[0m\u001b[0;36m0\u001b[0m\u001b[0;34m]\u001b[0m\u001b[0;34m)\u001b[0m\u001b[0;34m\u001b[0m\u001b[0m\n\u001b[0m",
      "\u001b[0;31mIndexError\u001b[0m: list index out of range"
     ]
    }
   ],
   "source": [
    "pre, suc = dict(), dict()\n",
    "for key in ['u', 'v']:\n",
    "    pre[key], suc[key] = [], []\n",
    "\n",
    "lane = lanes[lane_id]\n",
    "idcs = node_idcs[0]\n",
    "        \n",
    "pre['u'] += idcs[1:]\n",
    "pre['v'] += idcs[:-1]\n",
    "if lane.predecessors is not None:\n",
    "    for nbr_id in lane.predecessors:\n",
    "        if nbr_id in lane_ids:\n",
    "            j = lane_ids.index(nbr_id)\n",
    "            pre['u'].append(idcs[0])\n",
    "            pre['v'].append(node_idcs[j][-1])\n",
    "                \n",
    "suc['u'] += idcs[:-1]\n",
    "suc['v'] += idcs[1:]\n",
    "if lane.successors is not None:\n",
    "    for nbr_id in lane.successors:\n",
    "        if nbr_id in lane_ids:\n",
    "            j = lane_ids.index(nbr_id)\n",
    "            suc['u'].append(idcs[-1])\n",
    "            suc['v'].append(node_idcs[j][0])"
   ]
  },
  {
   "cell_type": "code",
   "execution_count": null,
   "metadata": {},
   "outputs": [
    {
     "name": "stdout",
     "output_type": "stream",
     "text": [
      "{'u': [1, 2, 3, 4, 5, 6, 7, 8], 'v': [0, 1, 2, 3, 4, 5, 6, 7]} {'u': [0, 1, 2, 3, 4, 5, 6, 7], 'v': [1, 2, 3, 4, 5, 6, 7, 8]}\n"
     ]
    },
    {
     "data": {
      "text/plain": [
       "<function print>"
      ]
     },
     "execution_count": 28,
     "metadata": {},
     "output_type": "execute_result"
    }
   ],
   "source": [
    "print(pre, suc)\n",
    "print"
   ]
  },
  {
   "cell_type": "code",
   "execution_count": null,
   "metadata": {},
   "outputs": [
    {
     "name": "stdout",
     "output_type": "stream",
     "text": [
      "[array([0, 0, 0, 0, 0, 0, 0, 0, 0])]\n",
      "[array([0, 0, 0, 0, 0, 0, 0, 0, 0]), array([1, 1, 1, 1, 1, 1, 1, 1, 1, 1, 1])]\n"
     ]
    }
   ],
   "source": [
    "lane_idcs = []\n",
    "node_idcs = [range(0,9),range(9,20)]\n",
    "for i, idcs in enumerate(node_idcs):\n",
    "    lane_idcs.append(i * np.ones(len(idcs), np.int64))\n",
    "    print(lane_idcs)\n",
    "lane_idcs = np.concatenate(lane_idcs, 0)"
   ]
  },
  {
   "cell_type": "code",
   "execution_count": null,
   "metadata": {},
   "outputs": [
    {
     "name": "stdout",
     "output_type": "stream",
     "text": [
      "[0 0 0 0 0 0 0 0 0 1 1 1 1 1 1 1 1 1 1 1]\n"
     ]
    }
   ],
   "source": [
    "print(lane_idcs)"
   ]
  },
  {
   "cell_type": "code",
   "execution_count": null,
   "metadata": {},
   "outputs": [],
   "source": [
    "pre_pairs, suc_pairs, left_pairs, right_pairs = [], [], [], []\n",
    "for i, lane_id in enumerate(lane_ids):\n",
    "    lane = lanes[lane_id]\n",
    "    nbr_ids = lane.predecessors\n",
    "    if nbr_ids is not None:\n",
    "        for nbr_id in nbr_ids:\n",
    "            if nbr_id in lane_ids:\n",
    "                j = lane_ids.index(nbr_id)\n",
    "                pre_pairs.append([i, j])\n",
    "    nbr_ids = lane.successors\n",
    "    if nbr_ids is not None:\n",
    "        for nbr_id in nbr_ids:\n",
    "            if nbr_id in lane_ids:\n",
    "                j = lane_ids.index(nbr_id)\n",
    "                suc_pairs.append([i, j])\n",
    "    nbr_id = lane.l_neighbor_id\n",
    "    if nbr_id is not None:\n",
    "        if nbr_id in lane_ids:\n",
    "            j = lane_ids.index(nbr_id)\n",
    "            left_pairs.append([i, j])\n",
    "    nbr_id = lane.r_neighbor_id\n",
    "    if nbr_id is not None:\n",
    "        if nbr_id in lane_ids:\n",
    "            j = lane_ids.index(nbr_id)\n",
    "            right_pairs.append([i, j])\n",
    "pre_pairs = np.asarray(pre_pairs, np.int64)\n",
    "suc_pairs = np.asarray(suc_pairs, np.int64)\n",
    "left_pairs = np.asarray(left_pairs, np.int64)\n",
    "right_pairs = np.asarray(right_pairs, np.int64)"
   ]
  },
  {
   "cell_type": "code",
   "execution_count": null,
   "metadata": {},
   "outputs": [
    {
     "name": "stdout",
     "output_type": "stream",
     "text": [
      "[]\n",
      "[]\n",
      "[]\n",
      "[]\n",
      "None [9608489]\n",
      "[9604896]\n"
     ]
    }
   ],
   "source": [
    "print(pre_pairs)\n",
    "print(suc_pairs)\n",
    "print(left_pairs)\n",
    "print(right_pairs)\n",
    "print(nbr_id, nbr_ids)\n",
    "print(lane_ids)"
   ]
  }
 ],
 "metadata": {
  "kernelspec": {
   "display_name": "Python 3.7.0 ('lanegcn')",
   "language": "python",
   "name": "python3"
  },
  "language_info": {
   "codemirror_mode": {
    "name": "ipython",
    "version": 3
   },
   "file_extension": ".py",
   "mimetype": "text/x-python",
   "name": "python",
   "nbconvert_exporter": "python",
   "pygments_lexer": "ipython3",
   "version": "3.7.0"
  },
  "orig_nbformat": 4,
  "vscode": {
   "interpreter": {
    "hash": "9ff309fca0a5e8ad5576d7cf0da1773e4040ba62bb168e6dfb3b17a889a1e8a7"
   }
  }
 },
 "nbformat": 4,
 "nbformat_minor": 2
}
