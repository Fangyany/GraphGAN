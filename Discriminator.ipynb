{
 "cells": [
  {
   "cell_type": "code",
   "execution_count": 1,
   "metadata": {},
   "outputs": [],
   "source": [
    "from lanegcn import ActorNet, actor_gather\n",
    "import os\n",
    "import argparse\n",
    "import numpy as np\n",
    "import random\n",
    "import sys\n",
    "import time\n",
    "import shutil\n",
    "from importlib import import_module\n",
    "from numbers import Number\n",
    "import torch\n",
    "from torch.utils.data import Sampler, DataLoader\n",
    "from utils import Logger, load_pretrain\n",
    "from lanegcn import get_model\n",
    "from argoverse.data_loading.argoverse_forecasting_loader import ArgoverseForecastingLoader\n",
    "from argoverse.map_representation.map_api import ArgoverseMap\n",
    "import numpy as np\n",
    "import torch\n",
    "from torch.utils.data import Dataset\n",
    "from scipy import sparse\n",
    "import os\n",
    "import copy\n",
    "from argoverse.data_loading.argoverse_forecasting_loader import ArgoverseForecastingLoader\n",
    "from argoverse.map_representation.map_api import ArgoverseMap\n",
    "from skimage.transform import rotate\n",
    "\n",
    "config, Dataset, collate_fn, net, loss, post_process, opt = get_model()"
   ]
  },
  {
   "cell_type": "code",
   "execution_count": 2,
   "metadata": {},
   "outputs": [],
   "source": [
    "avl = ArgoverseForecastingLoader('./dataset/train_mini/data')"
   ]
  },
  {
   "cell_type": "code",
   "execution_count": 3,
   "metadata": {},
   "outputs": [
    {
     "name": "stdout",
     "output_type": "stream",
     "text": [
      "Seq : /home/zzyu/GraphGAN/dataset/train_mini/data/88.csv\n",
      "        ----------------------\n",
      "        || City: MIA\n",
      "        || # Tracks: 81\n",
      "        ----------------------\n"
     ]
    }
   ],
   "source": [
    "print(avl)"
   ]
  },
  {
   "cell_type": "code",
   "execution_count": 4,
   "metadata": {},
   "outputs": [
    {
     "name": "stdout",
     "output_type": "stream",
     "text": [
      "[PosixPath('/home/zzyu/GraphGAN/dataset/train_mini/data/1.csv'), PosixPath('/home/zzyu/GraphGAN/dataset/train_mini/data/10.csv'), PosixPath('/home/zzyu/GraphGAN/dataset/train_mini/data/101.csv'), PosixPath('/home/zzyu/GraphGAN/dataset/train_mini/data/103.csv'), PosixPath('/home/zzyu/GraphGAN/dataset/train_mini/data/104.csv'), PosixPath('/home/zzyu/GraphGAN/dataset/train_mini/data/105.csv'), PosixPath('/home/zzyu/GraphGAN/dataset/train_mini/data/106.csv'), PosixPath('/home/zzyu/GraphGAN/dataset/train_mini/data/107.csv'), PosixPath('/home/zzyu/GraphGAN/dataset/train_mini/data/108.csv'), PosixPath('/home/zzyu/GraphGAN/dataset/train_mini/data/109.csv'), PosixPath('/home/zzyu/GraphGAN/dataset/train_mini/data/110.csv'), PosixPath('/home/zzyu/GraphGAN/dataset/train_mini/data/111.csv'), PosixPath('/home/zzyu/GraphGAN/dataset/train_mini/data/112.csv'), PosixPath('/home/zzyu/GraphGAN/dataset/train_mini/data/113.csv'), PosixPath('/home/zzyu/GraphGAN/dataset/train_mini/data/115.csv'), PosixPath('/home/zzyu/GraphGAN/dataset/train_mini/data/118.csv'), PosixPath('/home/zzyu/GraphGAN/dataset/train_mini/data/119.csv'), PosixPath('/home/zzyu/GraphGAN/dataset/train_mini/data/12.csv'), PosixPath('/home/zzyu/GraphGAN/dataset/train_mini/data/120.csv'), PosixPath('/home/zzyu/GraphGAN/dataset/train_mini/data/121.csv'), PosixPath('/home/zzyu/GraphGAN/dataset/train_mini/data/123.csv'), PosixPath('/home/zzyu/GraphGAN/dataset/train_mini/data/124.csv'), PosixPath('/home/zzyu/GraphGAN/dataset/train_mini/data/125.csv'), PosixPath('/home/zzyu/GraphGAN/dataset/train_mini/data/126.csv'), PosixPath('/home/zzyu/GraphGAN/dataset/train_mini/data/127.csv'), PosixPath('/home/zzyu/GraphGAN/dataset/train_mini/data/128.csv'), PosixPath('/home/zzyu/GraphGAN/dataset/train_mini/data/132.csv'), PosixPath('/home/zzyu/GraphGAN/dataset/train_mini/data/133.csv'), PosixPath('/home/zzyu/GraphGAN/dataset/train_mini/data/136.csv'), PosixPath('/home/zzyu/GraphGAN/dataset/train_mini/data/137.csv'), PosixPath('/home/zzyu/GraphGAN/dataset/train_mini/data/139.csv'), PosixPath('/home/zzyu/GraphGAN/dataset/train_mini/data/140.csv'), PosixPath('/home/zzyu/GraphGAN/dataset/train_mini/data/141.csv'), PosixPath('/home/zzyu/GraphGAN/dataset/train_mini/data/143.csv'), PosixPath('/home/zzyu/GraphGAN/dataset/train_mini/data/144.csv'), PosixPath('/home/zzyu/GraphGAN/dataset/train_mini/data/145.csv'), PosixPath('/home/zzyu/GraphGAN/dataset/train_mini/data/146.csv'), PosixPath('/home/zzyu/GraphGAN/dataset/train_mini/data/148.csv'), PosixPath('/home/zzyu/GraphGAN/dataset/train_mini/data/149.csv'), PosixPath('/home/zzyu/GraphGAN/dataset/train_mini/data/15.csv'), PosixPath('/home/zzyu/GraphGAN/dataset/train_mini/data/150.csv'), PosixPath('/home/zzyu/GraphGAN/dataset/train_mini/data/151.csv'), PosixPath('/home/zzyu/GraphGAN/dataset/train_mini/data/152.csv'), PosixPath('/home/zzyu/GraphGAN/dataset/train_mini/data/16.csv'), PosixPath('/home/zzyu/GraphGAN/dataset/train_mini/data/17.csv'), PosixPath('/home/zzyu/GraphGAN/dataset/train_mini/data/19.csv'), PosixPath('/home/zzyu/GraphGAN/dataset/train_mini/data/20.csv'), PosixPath('/home/zzyu/GraphGAN/dataset/train_mini/data/21.csv'), PosixPath('/home/zzyu/GraphGAN/dataset/train_mini/data/22.csv'), PosixPath('/home/zzyu/GraphGAN/dataset/train_mini/data/24.csv'), PosixPath('/home/zzyu/GraphGAN/dataset/train_mini/data/25.csv'), PosixPath('/home/zzyu/GraphGAN/dataset/train_mini/data/3.csv'), PosixPath('/home/zzyu/GraphGAN/dataset/train_mini/data/30.csv'), PosixPath('/home/zzyu/GraphGAN/dataset/train_mini/data/31.csv'), PosixPath('/home/zzyu/GraphGAN/dataset/train_mini/data/32.csv'), PosixPath('/home/zzyu/GraphGAN/dataset/train_mini/data/33.csv'), PosixPath('/home/zzyu/GraphGAN/dataset/train_mini/data/34.csv'), PosixPath('/home/zzyu/GraphGAN/dataset/train_mini/data/35.csv'), PosixPath('/home/zzyu/GraphGAN/dataset/train_mini/data/36.csv'), PosixPath('/home/zzyu/GraphGAN/dataset/train_mini/data/37.csv'), PosixPath('/home/zzyu/GraphGAN/dataset/train_mini/data/38.csv'), PosixPath('/home/zzyu/GraphGAN/dataset/train_mini/data/39.csv'), PosixPath('/home/zzyu/GraphGAN/dataset/train_mini/data/4.csv'), PosixPath('/home/zzyu/GraphGAN/dataset/train_mini/data/40.csv'), PosixPath('/home/zzyu/GraphGAN/dataset/train_mini/data/41.csv'), PosixPath('/home/zzyu/GraphGAN/dataset/train_mini/data/42.csv'), PosixPath('/home/zzyu/GraphGAN/dataset/train_mini/data/44.csv'), PosixPath('/home/zzyu/GraphGAN/dataset/train_mini/data/47.csv'), PosixPath('/home/zzyu/GraphGAN/dataset/train_mini/data/48.csv'), PosixPath('/home/zzyu/GraphGAN/dataset/train_mini/data/50.csv'), PosixPath('/home/zzyu/GraphGAN/dataset/train_mini/data/52.csv'), PosixPath('/home/zzyu/GraphGAN/dataset/train_mini/data/53.csv'), PosixPath('/home/zzyu/GraphGAN/dataset/train_mini/data/54.csv'), PosixPath('/home/zzyu/GraphGAN/dataset/train_mini/data/57.csv'), PosixPath('/home/zzyu/GraphGAN/dataset/train_mini/data/58.csv'), PosixPath('/home/zzyu/GraphGAN/dataset/train_mini/data/59.csv'), PosixPath('/home/zzyu/GraphGAN/dataset/train_mini/data/6.csv'), PosixPath('/home/zzyu/GraphGAN/dataset/train_mini/data/60.csv'), PosixPath('/home/zzyu/GraphGAN/dataset/train_mini/data/63.csv'), PosixPath('/home/zzyu/GraphGAN/dataset/train_mini/data/64.csv'), PosixPath('/home/zzyu/GraphGAN/dataset/train_mini/data/65.csv'), PosixPath('/home/zzyu/GraphGAN/dataset/train_mini/data/66.csv'), PosixPath('/home/zzyu/GraphGAN/dataset/train_mini/data/68.csv'), PosixPath('/home/zzyu/GraphGAN/dataset/train_mini/data/69.csv'), PosixPath('/home/zzyu/GraphGAN/dataset/train_mini/data/7.csv'), PosixPath('/home/zzyu/GraphGAN/dataset/train_mini/data/70.csv'), PosixPath('/home/zzyu/GraphGAN/dataset/train_mini/data/73.csv'), PosixPath('/home/zzyu/GraphGAN/dataset/train_mini/data/74.csv'), PosixPath('/home/zzyu/GraphGAN/dataset/train_mini/data/75.csv'), PosixPath('/home/zzyu/GraphGAN/dataset/train_mini/data/77.csv'), PosixPath('/home/zzyu/GraphGAN/dataset/train_mini/data/78.csv'), PosixPath('/home/zzyu/GraphGAN/dataset/train_mini/data/8.csv'), PosixPath('/home/zzyu/GraphGAN/dataset/train_mini/data/80.csv'), PosixPath('/home/zzyu/GraphGAN/dataset/train_mini/data/81.csv'), PosixPath('/home/zzyu/GraphGAN/dataset/train_mini/data/82.csv'), PosixPath('/home/zzyu/GraphGAN/dataset/train_mini/data/83.csv'), PosixPath('/home/zzyu/GraphGAN/dataset/train_mini/data/85.csv'), PosixPath('/home/zzyu/GraphGAN/dataset/train_mini/data/86.csv'), PosixPath('/home/zzyu/GraphGAN/dataset/train_mini/data/87.csv'), PosixPath('/home/zzyu/GraphGAN/dataset/train_mini/data/88.csv'), PosixPath('/home/zzyu/GraphGAN/dataset/train_mini/data/89.csv'), PosixPath('/home/zzyu/GraphGAN/dataset/train_mini/data/90.csv'), PosixPath('/home/zzyu/GraphGAN/dataset/train_mini/data/91.csv'), PosixPath('/home/zzyu/GraphGAN/dataset/train_mini/data/92.csv'), PosixPath('/home/zzyu/GraphGAN/dataset/train_mini/data/93.csv'), PosixPath('/home/zzyu/GraphGAN/dataset/train_mini/data/94.csv'), PosixPath('/home/zzyu/GraphGAN/dataset/train_mini/data/95.csv'), PosixPath('/home/zzyu/GraphGAN/dataset/train_mini/data/96.csv'), PosixPath('/home/zzyu/GraphGAN/dataset/train_mini/data/97.csv'), PosixPath('/home/zzyu/GraphGAN/dataset/train_mini/data/99.csv')]\n"
     ]
    }
   ],
   "source": [
    "avl.seq_list = sorted(avl.seq_list)\n",
    "print(avl.seq_list)"
   ]
  },
  {
   "cell_type": "code",
   "execution_count": 5,
   "metadata": {},
   "outputs": [
    {
     "name": "stdout",
     "output_type": "stream",
     "text": [
      "Seq : /home/zzyu/GraphGAN/dataset/train_mini/data/1.csv\n",
      "        ----------------------\n",
      "        || City: PIT\n",
      "        || # Tracks: 12\n",
      "        ----------------------\n",
      "Seq : /home/zzyu/GraphGAN/dataset/train_mini/data/10.csv\n",
      "        ----------------------\n",
      "        || City: MIA\n",
      "        || # Tracks: 101\n",
      "        ----------------------\n"
     ]
    }
   ],
   "source": [
    "print(avl[0])\n",
    "print(avl[1])"
   ]
  },
  {
   "cell_type": "code",
   "execution_count": 6,
   "metadata": {},
   "outputs": [],
   "source": [
    "import os\n",
    "\n",
    "import argparse\n",
    "import numpy as np\n",
    "import random\n",
    "import sys\n",
    "import time\n",
    "import shutil\n",
    "from importlib import import_module\n",
    "from numbers import Number\n",
    "\n",
    "import torch\n",
    "from torch.utils.data import Sampler, DataLoader\n",
    "\n",
    "\n",
    "from utils import Logger, load_pretrain\n",
    "import matplotlib.pyplot as plt\n",
    "from lanegcn import get_model"
   ]
  },
  {
   "cell_type": "code",
   "execution_count": 7,
   "metadata": {},
   "outputs": [],
   "source": [
    "config, Dataset, collate_fn, net, loss, post_process, opt = get_model()"
   ]
  },
  {
   "cell_type": "code",
   "execution_count": 8,
   "metadata": {},
   "outputs": [],
   "source": [
    "def worker_init_fn(pid):\n",
    "    np_seed = int(pid)\n",
    "    np.random.seed(np_seed)\n",
    "    random_seed = np.random.randint(2 ** 32 - 1)\n",
    "    random.seed(random_seed)\n",
    "\n",
    "dataset = Dataset('./dataset/preprocess/train_crs_dist6_angle90.p', config, train=True)\n",
    "train_loader = DataLoader(\n",
    "        dataset,\n",
    "        batch_size=config[\"batch_size\"],\n",
    "        num_workers=config[\"workers\"],\n",
    "        shuffle=False,   # True: At each epoch, reorder the data\n",
    "        collate_fn=collate_fn,\n",
    "        pin_memory=True,\n",
    "        worker_init_fn=worker_init_fn,   # The next 36 were thrown away\n",
    "        drop_last=True,\n",
    "    )"
   ]
  },
  {
   "cell_type": "code",
   "execution_count": 9,
   "metadata": {},
   "outputs": [
    {
     "name": "stdout",
     "output_type": "stream",
     "text": [
      "dict_keys(['city', 'orig', 'gt_preds', 'has_preds', 'theta', 'rot', 'feats', 'ctrs', 'graph', 'trajs2', 'traj1'])\n"
     ]
    }
   ],
   "source": [
    "from symbol import break_stmt\n",
    "\n",
    "\n",
    "data = {}\n",
    "for i, data in enumerate(train_loader):\n",
    "    data = dict(data)\n",
    "    break\n",
    "    \n",
    "\n",
    "\n",
    "print(data.keys())"
   ]
  },
  {
   "cell_type": "markdown",
   "metadata": {},
   "source": [
    "LaneGCN"
   ]
  },
  {
   "cell_type": "code",
   "execution_count": 10,
   "metadata": {},
   "outputs": [],
   "source": [
    "import numpy as np\n",
    "import os\n",
    "import sys\n",
    "from fractions import gcd\n",
    "from numbers import Number\n",
    "\n",
    "import torch\n",
    "from torch import Tensor, nn\n",
    "from torch.nn import functional as F\n",
    "\n",
    "from data import ArgoDataset, collate_fn\n",
    "from utils import gpu, to_long,  Optimizer, StepLR\n",
    "\n",
    "from layers import Conv1d, Res1d, Linear, LinearRes, Null\n",
    "from numpy import float64, ndarray\n",
    "from typing import Any, Callable, Dict, List, Optional, Tuple, Type, Union\n",
    "from lanegcn import ActorNet, PredNet, MapNet, A2A, A2M, M2A, M2M, graph_gather, actor_gather\n",
    "pred_net = PredNet(config)\n",
    "\n",
    "actor_net = ActorNet(config)\n",
    "map_net = MapNet(config)\n",
    "a2m = A2M(config)\n",
    "m2m = M2M(config)\n",
    "m2a = M2A(config)\n",
    "a2a = A2A(config)\n",
    "\n",
    "# construct actor feature\n",
    "actors, actor_idcs = actor_gather(data[\"feats\"])\n",
    "actor_ctrs = data[\"ctrs\"]\n",
    "actors = actor_net(actors)\n",
    "# construct map features\n",
    "graph = graph_gather(to_long(data[\"graph\"]))\n",
    "nodes, node_idcs, node_ctrs = map_net(graph)\n",
    "nodes = a2m(nodes, graph, actors, actor_idcs, actor_ctrs)\n",
    "nodes = m2m(nodes, graph)\n",
    "actors = m2a(actors, actor_idcs, actor_ctrs, nodes, node_idcs, node_ctrs)\n",
    "actors = a2a(actors, actor_idcs, actor_ctrs)\n",
    "\n",
    "# prediction\n",
    "out = pred_net(actors, actor_idcs, actor_ctrs)\n",
    "rot, orig = data[\"rot\"], data[\"orig\"]"
   ]
  },
  {
   "cell_type": "code",
   "execution_count": 11,
   "metadata": {},
   "outputs": [
    {
     "name": "stdout",
     "output_type": "stream",
     "text": [
      "dict_keys(['cls', 'reg'])\n",
      "32\n",
      "torch.Size([6, 6, 30, 2])\n",
      "torch.Size([30, 2])\n",
      "tensor([[-1.8242,  0.1444],\n",
      "        [ 0.7545,  2.1250],\n",
      "        [-0.1181,  0.2016],\n",
      "        [-0.3440,  0.8296],\n",
      "        [ 1.2942,  1.1487],\n",
      "        [-0.7077,  0.5549],\n",
      "        [-0.5429, -1.0416],\n",
      "        [-0.5303,  1.0946],\n",
      "        [ 1.7767, -0.0841],\n",
      "        [ 2.2620,  1.6975],\n",
      "        [-0.7436,  1.1287],\n",
      "        [ 0.4251,  1.6121],\n",
      "        [ 2.8390, -2.5586],\n",
      "        [-1.8569,  1.2222],\n",
      "        [-1.3943, -0.1708],\n",
      "        [ 0.1393, -0.6509],\n",
      "        [-1.1310, -1.7862],\n",
      "        [ 0.0273,  0.6874],\n",
      "        [-0.9153, -2.6340],\n",
      "        [ 5.0883, -1.5485],\n",
      "        [-0.4681, -1.5203],\n",
      "        [ 0.8871, -1.0394],\n",
      "        [ 0.4524,  1.1874],\n",
      "        [-0.2758,  0.9658],\n",
      "        [-0.9146,  0.2014],\n",
      "        [-0.8217,  0.8936],\n",
      "        [ 0.4168, -2.6325],\n",
      "        [-0.0172,  0.7263],\n",
      "        [-1.0036, -1.8694],\n",
      "        [ 1.6951, -0.5978]], grad_fn=<SelectBackward0>)\n"
     ]
    },
    {
     "data": {
      "text/plain": [
       "<matplotlib.collections.PathCollection at 0x7f43083b42b0>"
      ]
     },
     "execution_count": 11,
     "metadata": {},
     "output_type": "execute_result"
    },
    {
     "data": {
      "image/png": "[encoded data removed]",
      "text/plain": [
       "<Figure size 640x480 with 1 Axes>"
      ]
     },
     "metadata": {},
     "output_type": "display_data"
    }
   ],
   "source": [
    "print(out.keys())\n",
    "print(len(out['reg']))\n",
    "print(out['reg'][0].size())   # reg_size = n_actors, 6, 30, 2\n",
    "\n",
    "reg_a0_k0 = out['reg'][0][0][0]\n",
    "print(reg_a0_k0.size())\n",
    "print(reg_a0_k0)\n",
    "plt.scatter(reg_a0_k0.detach().numpy()[:,0], reg_a0_k0.detach().numpy()[:,1])"
   ]
  },
  {
   "cell_type": "code",
   "execution_count": 12,
   "metadata": {},
   "outputs": [
    {
     "name": "stdout",
     "output_type": "stream",
     "text": [
      "torch.Size([6, 20, 3])\n",
      "(30, 2)\n"
     ]
    }
   ],
   "source": [
    "traj1 = data['traj1'][0]\n",
    "print(traj1.size())\n",
    "traj_obs = traj1[0][:,:2]\n",
    "print(reg_a0_k0.detach().numpy().shape)"
   ]
  },
  {
   "cell_type": "code",
   "execution_count": 13,
   "metadata": {},
   "outputs": [
    {
     "name": "stdout",
     "output_type": "stream",
     "text": [
      "tensor([[-2.9350e+01,  6.9829e-01],\n",
      "        [-2.7669e+01,  6.1824e-01],\n",
      "        [-2.5916e+01,  6.1834e-01],\n",
      "        [-2.4357e+01,  5.5848e-01],\n",
      "        [-2.2825e+01,  5.2700e-01],\n",
      "        [-2.1702e+01,  4.6982e-01],\n",
      "        [-1.9933e+01,  5.3166e-01],\n",
      "        [-1.8591e+01,  4.0418e-01],\n",
      "        [-1.6941e+01,  4.2177e-01],\n",
      "        [-1.5494e+01,  3.2554e-01],\n",
      "        [-1.3866e+01,  3.1888e-01],\n",
      "        [-1.2298e+01,  3.3105e-01],\n",
      "        [-1.0726e+01,  2.0914e-01],\n",
      "        [-9.3659e+00,  2.3968e-01],\n",
      "        [-7.7486e+00,  1.7806e-01],\n",
      "        [-6.1332e+00,  1.8612e-01],\n",
      "        [-4.6353e+00,  7.5501e-02],\n",
      "        [-2.7170e+00,  6.0393e-02],\n",
      "        [-1.5915e+00,  3.3193e-08],\n",
      "        [ 1.0266e-05, -1.8155e-06]])\n",
      "tensor([[-1.8242,  0.1444],\n",
      "        [ 0.7545,  2.1250],\n",
      "        [-0.1181,  0.2016],\n",
      "        [-0.3440,  0.8296],\n",
      "        [ 1.2942,  1.1487],\n",
      "        [-0.7077,  0.5549],\n",
      "        [-0.5429, -1.0416],\n",
      "        [-0.5303,  1.0946],\n",
      "        [ 1.7767, -0.0841],\n",
      "        [ 2.2620,  1.6975],\n",
      "        [-0.7436,  1.1287],\n",
      "        [ 0.4251,  1.6121],\n",
      "        [ 2.8390, -2.5586],\n",
      "        [-1.8569,  1.2222],\n",
      "        [-1.3943, -0.1708],\n",
      "        [ 0.1393, -0.6509],\n",
      "        [-1.1310, -1.7862],\n",
      "        [ 0.0273,  0.6874],\n",
      "        [-0.9153, -2.6340],\n",
      "        [ 5.0883, -1.5485],\n",
      "        [-0.4681, -1.5203],\n",
      "        [ 0.8871, -1.0394],\n",
      "        [ 0.4524,  1.1874],\n",
      "        [-0.2758,  0.9658],\n",
      "        [-0.9146,  0.2014],\n",
      "        [-0.8217,  0.8936],\n",
      "        [ 0.4168, -2.6325],\n",
      "        [-0.0172,  0.7263],\n",
      "        [-1.0036, -1.8694],\n",
      "        [ 1.6951, -0.5978]], grad_fn=<SelectBackward0>)\n",
      "tensor([[-2.9350e+01,  6.9829e-01],\n",
      "        [-2.7669e+01,  6.1824e-01],\n",
      "        [-2.5916e+01,  6.1834e-01],\n",
      "        [-2.4357e+01,  5.5848e-01],\n",
      "        [-2.2825e+01,  5.2700e-01],\n",
      "        [-2.1702e+01,  4.6982e-01],\n",
      "        [-1.9933e+01,  5.3166e-01],\n",
      "        [-1.8591e+01,  4.0418e-01],\n",
      "        [-1.6941e+01,  4.2177e-01],\n",
      "        [-1.5494e+01,  3.2554e-01],\n",
      "        [-1.3866e+01,  3.1888e-01],\n",
      "        [-1.2298e+01,  3.3105e-01],\n",
      "        [-1.0726e+01,  2.0914e-01],\n",
      "        [-9.3659e+00,  2.3968e-01],\n",
      "        [-7.7486e+00,  1.7806e-01],\n",
      "        [-6.1332e+00,  1.8612e-01],\n",
      "        [-4.6353e+00,  7.5501e-02],\n",
      "        [-2.7170e+00,  6.0393e-02],\n",
      "        [-1.5915e+00,  3.3193e-08],\n",
      "        [ 1.0266e-05, -1.8155e-06],\n",
      "        [-1.8242e+00,  1.4444e-01],\n",
      "        [ 7.5455e-01,  2.1250e+00],\n",
      "        [-1.1806e-01,  2.0160e-01],\n",
      "        [-3.4403e-01,  8.2959e-01],\n",
      "        [ 1.2942e+00,  1.1487e+00],\n",
      "        [-7.0767e-01,  5.5487e-01],\n",
      "        [-5.4290e-01, -1.0416e+00],\n",
      "        [-5.3032e-01,  1.0946e+00],\n",
      "        [ 1.7767e+00, -8.4112e-02],\n",
      "        [ 2.2620e+00,  1.6975e+00],\n",
      "        [-7.4356e-01,  1.1287e+00],\n",
      "        [ 4.2513e-01,  1.6121e+00],\n",
      "        [ 2.8390e+00, -2.5586e+00],\n",
      "        [-1.8569e+00,  1.2222e+00],\n",
      "        [-1.3943e+00, -1.7076e-01],\n",
      "        [ 1.3925e-01, -6.5086e-01],\n",
      "        [-1.1310e+00, -1.7862e+00],\n",
      "        [ 2.7287e-02,  6.8744e-01],\n",
      "        [-9.1526e-01, -2.6340e+00],\n",
      "        [ 5.0883e+00, -1.5485e+00],\n",
      "        [-4.6807e-01, -1.5203e+00],\n",
      "        [ 8.8713e-01, -1.0394e+00],\n",
      "        [ 4.5241e-01,  1.1874e+00],\n",
      "        [-2.7585e-01,  9.6580e-01],\n",
      "        [-9.1456e-01,  2.0136e-01],\n",
      "        [-8.2175e-01,  8.9360e-01],\n",
      "        [ 4.1680e-01, -2.6325e+00],\n",
      "        [-1.7179e-02,  7.2629e-01],\n",
      "        [-1.0036e+00, -1.8694e+00],\n",
      "        [ 1.6951e+00, -5.9777e-01]], grad_fn=<CatBackward0>)\n"
     ]
    },
    {
     "data": {
      "text/plain": [
       "<matplotlib.collections.PathCollection at 0x7f4308519358>"
      ]
     },
     "execution_count": 13,
     "metadata": {},
     "output_type": "execute_result"
    },
    {
     "data": {
      "image/png": "[encoded data removed]",
      "text/plain": [
       "<Figure size 640x480 with 1 Axes>"
      ]
     },
     "metadata": {},
     "output_type": "display_data"
    }
   ],
   "source": [
    "reg_a0_k0_all = torch.cat([traj_obs,reg_a0_k0])\n",
    "print(traj_obs)\n",
    "print(reg_a0_k0)\n",
    "print(reg_a0_k0_all)\n",
    "plt.scatter(reg_a0_k0_all.detach().numpy()[:,0],reg_a0_k0_all.detach().numpy()[:,1])\n",
    "\n",
    "trajs2 = data['trajs2'][0]\n",
    "plt.scatter(trajs2[0][:,0], trajs2[0][:,1])"
   ]
  },
  {
   "cell_type": "code",
   "execution_count": 14,
   "metadata": {},
   "outputs": [
    {
     "name": "stdout",
     "output_type": "stream",
     "text": [
      "torch.Size([20, 3])\n",
      "torch.Size([6, 30, 2])\n"
     ]
    }
   ],
   "source": [
    "print(data['traj1'][0][0].size())\n",
    "print(out['reg'][0][0].size())"
   ]
  },
  {
   "cell_type": "code",
   "execution_count": 15,
   "metadata": {},
   "outputs": [
    {
     "name": "stdout",
     "output_type": "stream",
     "text": [
      "torch.Size([20, 2]) torch.Size([30, 2])\n",
      "torch.Size([50, 2])\n"
     ]
    },
    {
     "data": {
      "text/plain": [
       "<matplotlib.collections.PathCollection at 0x7f43084f8a90>"
      ]
     },
     "execution_count": 15,
     "metadata": {},
     "output_type": "execute_result"
    },
    {
     "data": {
      "image/png": "[encoded data removed]",
      "text/plain": [
       "<Figure size 640x480 with 1 Axes>"
      ]
     },
     "metadata": {},
     "output_type": "display_data"
    }
   ],
   "source": [
    "obs_traj_rel = data['traj1'][0][0][:,:2]\n",
    "pred_traj_rel = out['reg'][0][0][0]\n",
    "\n",
    "print(obs_traj_rel.size(), pred_traj_rel.size())\n",
    "fake_traj_rel = torch.cat((obs_traj_rel,pred_traj_rel),dim=0)\n",
    "print(fake_traj_rel.size())\n",
    "\n",
    "plt.scatter(fake_traj_rel[:,0].detach().numpy(), fake_traj_rel[:,1].detach().numpy())"
   ]
  },
  {
   "cell_type": "markdown",
   "metadata": {},
   "source": [
    "get_fake_traj"
   ]
  },
  {
   "cell_type": "code",
   "execution_count": 16,
   "metadata": {},
   "outputs": [],
   "source": [
    "def actor_gather(actors: List[Tensor]) -> Tuple[Tensor, List[Tensor]]:\n",
    "    batch_size = len(actors)\n",
    "    num_actors = [len(x) for x in actors]\n",
    "\n",
    "    actors = [x.transpose(1, 2) for x in actors]\n",
    "    # print('x.transpose:', actors, len(actors), actors[0].size())\n",
    "    actors = torch.cat(actors, 0)\n",
    "    # print('cat:', actors)\n",
    "\n",
    "    actor_idcs = []\n",
    "    count = 0\n",
    "    for i in range(batch_size):\n",
    "        idcs = torch.arange(count, count + num_actors[i]).to(actors.device)\n",
    "        actor_idcs.append(idcs)\n",
    "        count += num_actors[i]\n",
    "    return actors, actor_idcs"
   ]
  },
  {
   "cell_type": "code",
   "execution_count": 17,
   "metadata": {},
   "outputs": [],
   "source": [
    "actors, actor_idcs = actor_gather(gpu(data[\"traj1\"]))"
   ]
  },
  {
   "cell_type": "code",
   "execution_count": 18,
   "metadata": {},
   "outputs": [
    {
     "name": "stdout",
     "output_type": "stream",
     "text": [
      "528\n"
     ]
    }
   ],
   "source": [
    "a = 0\n",
    "for i in range(len(data['traj1'])):\n",
    "    a += data['traj1'][i].size(0)\n",
    "print(a)"
   ]
  },
  {
   "cell_type": "code",
   "execution_count": 19,
   "metadata": {},
   "outputs": [
    {
     "name": "stdout",
     "output_type": "stream",
     "text": [
      "torch.Size([528, 3, 20])\n",
      "torch.Size([6, 20, 3])\n"
     ]
    }
   ],
   "source": [
    "print(actors.size())\n",
    "print(data['traj1'][0].size())"
   ]
  },
  {
   "cell_type": "code",
   "execution_count": 20,
   "metadata": {},
   "outputs": [
    {
     "data": {
      "text/plain": [
       "<matplotlib.collections.PathCollection at 0x7f43084b5d68>"
      ]
     },
     "execution_count": 20,
     "metadata": {},
     "output_type": "execute_result"
    },
    {
     "data": {
      "image/png": "[encoded data removed]",
      "text/plain": [
       "<Figure size 640x480 with 1 Axes>"
      ]
     },
     "metadata": {},
     "output_type": "display_data"
    }
   ],
   "source": [
    "plt.scatter(data['traj1'][0][0][:,0],data['traj1'][0][0][:,1])"
   ]
  },
  {
   "cell_type": "code",
   "execution_count": 21,
   "metadata": {},
   "outputs": [
    {
     "data": {
      "text/plain": [
       "<matplotlib.collections.PathCollection at 0x7f4308137f60>"
      ]
     },
     "execution_count": 21,
     "metadata": {},
     "output_type": "execute_result"
    },
    {
     "data": {
      "image/png": "[encoded data removed]",
      "text/plain": [
       "<Figure size 640x480 with 1 Axes>"
      ]
     },
     "metadata": {},
     "output_type": "display_data"
    }
   ],
   "source": [
    "plt.scatter(actors[0][0],actors[0][1])"
   ]
  },
  {
   "cell_type": "code",
   "execution_count": 22,
   "metadata": {},
   "outputs": [
    {
     "name": "stdout",
     "output_type": "stream",
     "text": [
      "32 torch.Size([27, 6, 30, 2])\n"
     ]
    }
   ],
   "source": [
    "print(len(out['reg']), out['reg'][1].size())"
   ]
  },
  {
   "cell_type": "code",
   "execution_count": 23,
   "metadata": {},
   "outputs": [
    {
     "name": "stdout",
     "output_type": "stream",
     "text": [
      "torch.Size([528, 3, 20])\n",
      "torch.Size([528, 6, 30, 2])\n",
      "torch.Size([3168, 30, 2])\n",
      "torch.Size([30]) torch.Size([30])\n",
      "tensor([0., 0., 0., 0., 0., 0., 0., 0., 0., 0., 0., 0., 0., 0., 0., 0., 0., 0., 0., 0., 0., 0., 0., 0.,\n",
      "        0., 0., 0., 0., 0., 0.], grad_fn=<SubBackward0>)\n",
      "torch.Size([3168, 2, 30])\n",
      "obs torch.Size([528, 2, 20])\n",
      "torch.Size([3168, 2, 20])\n",
      "c torch.Size([6, 20])\n",
      "all torch.Size([3168, 2, 50])\n"
     ]
    },
    {
     "data": {
      "text/plain": [
       "<matplotlib.collections.PathCollection at 0x7f4308487e10>"
      ]
     },
     "execution_count": 23,
     "metadata": {},
     "output_type": "execute_result"
    },
    {
     "data": {
      "image/png": "[encoded data removed]",
      "text/plain": [
       "<Figure size 640x480 with 1 Axes>"
      ]
     },
     "metadata": {},
     "output_type": "display_data"
    }
   ],
   "source": [
    "print(actors.size())\n",
    "reg = torch.cat([x for x in out['reg']], 0)\n",
    "print(reg.size())\n",
    "reg1 = torch.cat([x for x in reg], 0)\n",
    "print(reg1.size())\n",
    "\n",
    "a = reg[0][0][:,0]\n",
    "b = reg1[0][:,0]\n",
    "print(a.size(), b.size())\n",
    "print(a-b)\n",
    "\n",
    "reg2 = reg1.transpose(1,2)\n",
    "print(reg2.size())\n",
    "\n",
    "obs_traj_rel = actors[:,:2]\n",
    "print('obs', obs_traj_rel.size())\n",
    "\n",
    "obs_traj_rel_repeat6= torch.repeat_interleave(obs_traj_rel, repeats=6, dim=0)\n",
    "\n",
    "print(obs_traj_rel_repeat6.size())\n",
    "c = obs_traj_rel_repeat6[0:6,0]\n",
    "print('c',c.size())\n",
    "d = obs_traj_rel[0,0]\n",
    "# print(c - d)\n",
    "\n",
    "\n",
    "all = torch.cat([obs_traj_rel_repeat6,reg2],dim=-1)\n",
    "print('all', all.size())\n",
    "\n",
    "plt.scatter(all[0,0].detach().numpy(),all[0,1].detach().numpy())\n",
    "plt.scatter(all[1,0].detach().numpy(),all[1,1].detach().numpy())\n",
    "plt.scatter(all[3,0].detach().numpy(),all[3,1].detach().numpy())\n",
    "plt.scatter(data['trajs2'][0][0][:,0],data['trajs2'][0][0][:,1])"
   ]
  },
  {
   "cell_type": "code",
   "execution_count": 24,
   "metadata": {},
   "outputs": [],
   "source": [
    "def get_fake_traj_rel(traj1:List[Tensor], reg:List[Tensor]) -> List[Tensor]:\n",
    "    # obs gather and repeat 6\n",
    "    obs_traj_rel, actor_idcs = actor_gather(gpu(traj1))\n",
    "    obs_traj_rel1 = obs_traj_rel[:,:2]\n",
    "    obs_traj_rel_repeat6= torch.repeat_interleave(obs_traj_rel1, repeats=6, dim=0)\n",
    "\n",
    "    # reg cat\n",
    "    reg0 = torch.cat([x for x in reg], 0)\n",
    "    reg1 = torch.cat([x for x in reg0], 0)\n",
    "    reg2 = reg1.transpose(1,2)\n",
    "\n",
    "    fake_traj_rel = torch.cat([obs_traj_rel_repeat6,reg2],dim=-1)\n",
    "    \n",
    "    return fake_traj_rel\n",
    "\n",
    "    "
   ]
  },
  {
   "cell_type": "code",
   "execution_count": 25,
   "metadata": {},
   "outputs": [],
   "source": [
    "fake_traj_rel = get_fake_traj_rel(data['traj1'], out['reg'])"
   ]
  },
  {
   "cell_type": "code",
   "execution_count": 26,
   "metadata": {},
   "outputs": [
    {
     "name": "stdout",
     "output_type": "stream",
     "text": [
      "torch.Size([3168, 2, 50])\n"
     ]
    }
   ],
   "source": [
    "print(fake_traj_rel.size())"
   ]
  },
  {
   "cell_type": "code",
   "execution_count": 27,
   "metadata": {},
   "outputs": [
    {
     "name": "stdout",
     "output_type": "stream",
     "text": [
      "32\n",
      "torch.Size([6, 50, 3])\n",
      "torch.Size([528, 3, 50])\n",
      "torch.Size([528, 2, 50])\n"
     ]
    }
   ],
   "source": [
    "print(len(data['trajs2']))\n",
    "print(data['trajs2'][0].size())\n",
    "pred_traj_rel, actor_idcs = actor_gather(gpu(data['trajs2']))\n",
    "print(pred_traj_rel.size())\n",
    "\n",
    "pred_traj_rel1 = pred_traj_rel[:,:2]\n",
    "print(pred_traj_rel1.size())"
   ]
  },
  {
   "cell_type": "code",
   "execution_count": 28,
   "metadata": {},
   "outputs": [
    {
     "name": "stdout",
     "output_type": "stream",
     "text": [
      "torch.Size([528, 2, 50])\n"
     ]
    }
   ],
   "source": [
    "def get_pred_traj_rel(trajs2):\n",
    "    pred_traj_rel0, actor_idcs = actor_gather(gpu(trajs2))\n",
    "    pred_traj_rel = pred_traj_rel0[:,:2]\n",
    "    return pred_traj_rel\n",
    "    \n",
    "pred_traj_rel = get_pred_traj_rel(data['trajs2'])\n",
    "print(pred_traj_rel.size())"
   ]
  },
  {
   "cell_type": "markdown",
   "metadata": {},
   "source": [
    "Discriminator"
   ]
  },
  {
   "cell_type": "code",
   "execution_count": 29,
   "metadata": {},
   "outputs": [],
   "source": [
    "from lanegcn import ActorNet"
   ]
  },
  {
   "cell_type": "code",
   "execution_count": 30,
   "metadata": {},
   "outputs": [
    {
     "name": "stdout",
     "output_type": "stream",
     "text": [
      "torch.Size([528, 3, 20])\n",
      "torch.Size([528, 128])\n",
      "torch.Size([528, 2, 50])\n"
     ]
    }
   ],
   "source": [
    "actor_net = ActorNet(config)\n",
    "\n",
    "actors, actor_idcs = actor_gather(gpu(data[\"feats\"]))\n",
    "print(actors.size())\n",
    "actors = actor_net(actors)\n",
    "print(actors.size())\n",
    "\n",
    "print(pred_traj_rel.size())"
   ]
  },
  {
   "cell_type": "code",
   "execution_count": 31,
   "metadata": {},
   "outputs": [],
   "source": [
    "from layers import Conv1d, Res1d, Linear, LinearRes, Null"
   ]
  },
  {
   "cell_type": "code",
   "execution_count": 32,
   "metadata": {},
   "outputs": [],
   "source": [
    "norm = \"GN\"\n",
    "ng = 1\n",
    "n_in = 2\n",
    "n_out = [32, 64, 128]\n",
    "blocks = [Res1d, Res1d, Res1d]\n",
    "num_blocks = [2, 2, 2]\n",
    "groups = []\n",
    "for i in range(len(num_blocks)):\n",
    "    group = []\n",
    "    if i == 0:\n",
    "        group.append(blocks[i](n_in, n_out[i], norm=norm, ng=ng))\n",
    "    else:\n",
    "        group.append(blocks[i](n_in, n_out[i], stride=2, norm=norm, ng=ng))\n",
    "    for j in range(1, num_blocks[i]):\n",
    "        group.append(blocks[i](n_out[i], n_out[i], norm=norm, ng=ng))\n",
    "    groups.append(nn.Sequential(*group))\n",
    "    n_in = n_out[i]\n",
    "groups = nn.ModuleList(groups)\n",
    "\n",
    "\n",
    "n = config[\"n_actor\"]\n",
    "lateral = []\n",
    "for i in range(len(n_out)):\n",
    "    lateral.append(Conv1d(n_out[i], n, norm=norm, ng=ng, act=False))\n",
    "lateral = nn.ModuleList(lateral)\n",
    "output = Res1d(n, n, norm=norm, ng=ng)"
   ]
  },
  {
   "cell_type": "code",
   "execution_count": 33,
   "metadata": {},
   "outputs": [
    {
     "name": "stdout",
     "output_type": "stream",
     "text": [
      "ModuleList(\n",
      "  (0): Sequential(\n",
      "    (0): Res1d(\n",
      "      (conv1): Conv1d(2, 32, kernel_size=(3,), stride=(1,), padding=(1,), bias=False)\n",
      "      (conv2): Conv1d(32, 32, kernel_size=(3,), stride=(1,), padding=(1,), bias=False)\n",
      "      (relu): ReLU(inplace=True)\n",
      "      (bn1): GroupNorm(1, 32, eps=1e-05, affine=True)\n",
      "      (bn2): GroupNorm(1, 32, eps=1e-05, affine=True)\n",
      "      (downsample): Sequential(\n",
      "        (0): Conv1d(2, 32, kernel_size=(1,), stride=(1,), bias=False)\n",
      "        (1): GroupNorm(1, 32, eps=1e-05, affine=True)\n",
      "      )\n",
      "    )\n",
      "    (1): Res1d(\n",
      "      (conv1): Conv1d(32, 32, kernel_size=(3,), stride=(1,), padding=(1,), bias=False)\n",
      "      (conv2): Conv1d(32, 32, kernel_size=(3,), stride=(1,), padding=(1,), bias=False)\n",
      "      (relu): ReLU(inplace=True)\n",
      "      (bn1): GroupNorm(1, 32, eps=1e-05, affine=True)\n",
      "      (bn2): GroupNorm(1, 32, eps=1e-05, affine=True)\n",
      "    )\n",
      "  )\n",
      "  (1): Sequential(\n",
      "    (0): Res1d(\n",
      "      (conv1): Conv1d(32, 64, kernel_size=(3,), stride=(2,), padding=(1,), bias=False)\n",
      "      (conv2): Conv1d(64, 64, kernel_size=(3,), stride=(1,), padding=(1,), bias=False)\n",
      "      (relu): ReLU(inplace=True)\n",
      "      (bn1): GroupNorm(1, 64, eps=1e-05, affine=True)\n",
      "      (bn2): GroupNorm(1, 64, eps=1e-05, affine=True)\n",
      "      (downsample): Sequential(\n",
      "        (0): Conv1d(32, 64, kernel_size=(1,), stride=(2,), bias=False)\n",
      "        (1): GroupNorm(1, 64, eps=1e-05, affine=True)\n",
      "      )\n",
      "    )\n",
      "    (1): Res1d(\n",
      "      (conv1): Conv1d(64, 64, kernel_size=(3,), stride=(1,), padding=(1,), bias=False)\n",
      "      (conv2): Conv1d(64, 64, kernel_size=(3,), stride=(1,), padding=(1,), bias=False)\n",
      "      (relu): ReLU(inplace=True)\n",
      "      (bn1): GroupNorm(1, 64, eps=1e-05, affine=True)\n",
      "      (bn2): GroupNorm(1, 64, eps=1e-05, affine=True)\n",
      "    )\n",
      "  )\n",
      "  (2): Sequential(\n",
      "    (0): Res1d(\n",
      "      (conv1): Conv1d(64, 128, kernel_size=(3,), stride=(2,), padding=(1,), bias=False)\n",
      "      (conv2): Conv1d(128, 128, kernel_size=(3,), stride=(1,), padding=(1,), bias=False)\n",
      "      (relu): ReLU(inplace=True)\n",
      "      (bn1): GroupNorm(1, 128, eps=1e-05, affine=True)\n",
      "      (bn2): GroupNorm(1, 128, eps=1e-05, affine=True)\n",
      "      (downsample): Sequential(\n",
      "        (0): Conv1d(64, 128, kernel_size=(1,), stride=(2,), bias=False)\n",
      "        (1): GroupNorm(1, 128, eps=1e-05, affine=True)\n",
      "      )\n",
      "    )\n",
      "    (1): Res1d(\n",
      "      (conv1): Conv1d(128, 128, kernel_size=(3,), stride=(1,), padding=(1,), bias=False)\n",
      "      (conv2): Conv1d(128, 128, kernel_size=(3,), stride=(1,), padding=(1,), bias=False)\n",
      "      (relu): ReLU(inplace=True)\n",
      "      (bn1): GroupNorm(1, 128, eps=1e-05, affine=True)\n",
      "      (bn2): GroupNorm(1, 128, eps=1e-05, affine=True)\n",
      "    )\n",
      "  )\n",
      ")\n"
     ]
    }
   ],
   "source": [
    "print(groups)"
   ]
  },
  {
   "cell_type": "code",
   "execution_count": 34,
   "metadata": {},
   "outputs": [
    {
     "name": "stdout",
     "output_type": "stream",
     "text": [
      "ModuleList(\n",
      "  (0): Conv1d(\n",
      "    (conv): Conv1d(32, 128, kernel_size=(3,), stride=(1,), padding=(1,), bias=False)\n",
      "    (norm): GroupNorm(1, 128, eps=1e-05, affine=True)\n",
      "    (relu): ReLU(inplace=True)\n",
      "  )\n",
      "  (1): Conv1d(\n",
      "    (conv): Conv1d(64, 128, kernel_size=(3,), stride=(1,), padding=(1,), bias=False)\n",
      "    (norm): GroupNorm(1, 128, eps=1e-05, affine=True)\n",
      "    (relu): ReLU(inplace=True)\n",
      "  )\n",
      "  (2): Conv1d(\n",
      "    (conv): Conv1d(128, 128, kernel_size=(3,), stride=(1,), padding=(1,), bias=False)\n",
      "    (norm): GroupNorm(1, 128, eps=1e-05, affine=True)\n",
      "    (relu): ReLU(inplace=True)\n",
      "  )\n",
      ")\n"
     ]
    }
   ],
   "source": [
    "print(lateral)"
   ]
  },
  {
   "cell_type": "code",
   "execution_count": 35,
   "metadata": {},
   "outputs": [
    {
     "name": "stdout",
     "output_type": "stream",
     "text": [
      "torch.Size([528, 2, 50])\n",
      "0\n",
      "1\n",
      "2\n"
     ]
    }
   ],
   "source": [
    "out = pred_traj_rel\n",
    "print(out.size())\n",
    "outputs = []\n",
    "for i in range(len(groups)):\n",
    "    print(i)\n",
    "    out = groups[i](out)\n",
    "    outputs.append(out)\n",
    "out = lateral[-1](outputs[-1])"
   ]
  },
  {
   "cell_type": "code",
   "execution_count": 36,
   "metadata": {},
   "outputs": [],
   "source": [
    "out = pred_traj_rel\n",
    "out = groups[0](out)"
   ]
  },
  {
   "cell_type": "code",
   "execution_count": 37,
   "metadata": {},
   "outputs": [
    {
     "name": "stdout",
     "output_type": "stream",
     "text": [
      "Sequential(\n",
      "  (0): Res1d(\n",
      "    (conv1): Conv1d(2, 32, kernel_size=(3,), stride=(1,), padding=(1,), bias=False)\n",
      "    (conv2): Conv1d(32, 32, kernel_size=(3,), stride=(1,), padding=(1,), bias=False)\n",
      "    (relu): ReLU(inplace=True)\n",
      "    (bn1): GroupNorm(1, 32, eps=1e-05, affine=True)\n",
      "    (bn2): GroupNorm(1, 32, eps=1e-05, affine=True)\n",
      "    (downsample): Sequential(\n",
      "      (0): Conv1d(2, 32, kernel_size=(1,), stride=(1,), bias=False)\n",
      "      (1): GroupNorm(1, 32, eps=1e-05, affine=True)\n",
      "    )\n",
      "  )\n",
      "  (1): Res1d(\n",
      "    (conv1): Conv1d(32, 32, kernel_size=(3,), stride=(1,), padding=(1,), bias=False)\n",
      "    (conv2): Conv1d(32, 32, kernel_size=(3,), stride=(1,), padding=(1,), bias=False)\n",
      "    (relu): ReLU(inplace=True)\n",
      "    (bn1): GroupNorm(1, 32, eps=1e-05, affine=True)\n",
      "    (bn2): GroupNorm(1, 32, eps=1e-05, affine=True)\n",
      "  )\n",
      ")\n"
     ]
    }
   ],
   "source": [
    "print(groups[0])"
   ]
  },
  {
   "cell_type": "code",
   "execution_count": 38,
   "metadata": {},
   "outputs": [
    {
     "name": "stdout",
     "output_type": "stream",
     "text": [
      "torch.Size([528, 32, 50])\n"
     ]
    }
   ],
   "source": [
    "print(out.size())"
   ]
  },
  {
   "cell_type": "code",
   "execution_count": 39,
   "metadata": {},
   "outputs": [],
   "source": [
    "for i in range(len(outputs) - 2, -1, -1):\n",
    "    out = F.interpolate(out, scale_factor=2, mode=\"linear\", align_corners=False)\n",
    "    break"
   ]
  },
  {
   "cell_type": "code",
   "execution_count": 40,
   "metadata": {},
   "outputs": [
    {
     "name": "stdout",
     "output_type": "stream",
     "text": [
      "torch.Size([528, 32, 100])\n",
      "torch.Size([528, 128, 50])\n"
     ]
    }
   ],
   "source": [
    "print(out.size())\n",
    "print(lateral[0](outputs[0]).size())"
   ]
  },
  {
   "cell_type": "code",
   "execution_count": 41,
   "metadata": {},
   "outputs": [
    {
     "name": "stdout",
     "output_type": "stream",
     "text": [
      "torch.Size([528, 2, 50])\n"
     ]
    }
   ],
   "source": [
    "print(pred_traj_rel.size())"
   ]
  },
  {
   "cell_type": "code",
   "execution_count": 42,
   "metadata": {},
   "outputs": [],
   "source": [
    "def make_mlp(dim_list, activation='relu', batch_norm=True, dropout=0):\n",
    "    layers = []\n",
    "    for dim_in, dim_out in zip(dim_list[:-1], dim_list[1:]):\n",
    "        layers.append(nn.Linear(dim_in, dim_out))\n",
    "        if batch_norm:\n",
    "            layers.append(nn.BatchNorm1d(dim_out))\n",
    "        if activation == 'relu':\n",
    "            layers.append(nn.ReLU())\n",
    "        elif activation == 'leakyrelu':\n",
    "            layers.append(nn.LeakyReLU())\n",
    "        if dropout > 0:\n",
    "            layers.append(nn.Dropout(p=dropout))\n",
    "    return nn.Sequential(*layers)\n",
    "\n",
    "real_classifier_dims = [128, 1024, 1]\n",
    "real_classifier = make_mlp(real_classifier_dims)"
   ]
  },
  {
   "cell_type": "code",
   "execution_count": 43,
   "metadata": {},
   "outputs": [
    {
     "name": "stdout",
     "output_type": "stream",
     "text": [
      "Sequential(\n",
      "  (0): Linear(in_features=128, out_features=1024, bias=True)\n",
      "  (1): BatchNorm1d(1024, eps=1e-05, momentum=0.1, affine=True, track_running_stats=True)\n",
      "  (2): ReLU()\n",
      "  (3): Linear(in_features=1024, out_features=1, bias=True)\n",
      "  (4): BatchNorm1d(1, eps=1e-05, momentum=0.1, affine=True, track_running_stats=True)\n",
      "  (5): ReLU()\n",
      ")\n"
     ]
    }
   ],
   "source": [
    "print(real_classifier)"
   ]
  },
  {
   "cell_type": "code",
   "execution_count": 45,
   "metadata": {},
   "outputs": [
    {
     "name": "stdout",
     "output_type": "stream",
     "text": [
      "torch.Size([528, 1])\n"
     ]
    }
   ],
   "source": [
    "from lanegcn import TrajectoryDiscriminator\n",
    "discriminator = TrajectoryDiscriminator(config)\n",
    "scores = discriminator(pred_traj_rel)\n",
    "print(scores.size())"
   ]
  },
  {
   "cell_type": "markdown",
   "metadata": {},
   "source": [
    "discriminator_step"
   ]
  },
  {
   "cell_type": "code",
   "execution_count": 47,
   "metadata": {},
   "outputs": [],
   "source": [
    "import torch\n",
    "import random\n",
    "\n",
    "\n",
    "def bce_loss(input, target):\n",
    "    neg_abs = -input.abs()\n",
    "    loss = input.clamp(min=0) - input * target + (1 + neg_abs.exp()).log()\n",
    "    return loss.mean()\n",
    "\n",
    "\n",
    "\n",
    "\n",
    "def gan_g_loss(scores_fake):\n",
    "    y_fake = torch.ones_like(scores_fake) * random.uniform(0.7, 1.2)\n",
    "    return bce_loss(scores_fake, y_fake)\n",
    "\n",
    "\n",
    "\n",
    "\n",
    "def gan_d_loss(scores_real, scores_fake):\n",
    "    y_real = torch.ones_like(scores_real) * random.uniform(0.7, 1.2)\n",
    "    y_fake = torch.ones_like(scores_fake) * random.uniform(0, 0.3)\n",
    "    loss_real = bce_loss(scores_real, y_real)\n",
    "    loss_fake = bce_loss(scores_fake, y_fake)\n",
    "    return loss_real + loss_fake"
   ]
  },
  {
   "cell_type": "code",
   "execution_count": 46,
   "metadata": {},
   "outputs": [],
   "source": [
    "scores_fake = discriminator(fake_traj_rel)\n",
    "scores_real = discriminator(pred_traj_rel)"
   ]
  },
  {
   "cell_type": "code",
   "execution_count": 49,
   "metadata": {},
   "outputs": [
    {
     "name": "stdout",
     "output_type": "stream",
     "text": [
      "torch.Size([1])\n"
     ]
    }
   ],
   "source": [
    "loss = torch.zeros(1)\n",
    "print(loss.size())"
   ]
  },
  {
   "cell_type": "code",
   "execution_count": null,
   "metadata": {},
   "outputs": [],
   "source": [
    "losses = {}\n",
    "loss = torch.zeros(1).to(pred_traj_gt)\n",
    "\n",
    "g_loss_fn = gan_g_loss\n",
    "d_loss_fn = gan_d_loss\n",
    "\n",
    "opt_g = optim.Adam(generator.parameters(), lr=args.g_learning_rate)\n",
    "opt_d = optim.Adam(discriminator.parameters(), lr=args.d_learning_rate)\n",
    "\n",
    "\n",
    "# Maybe restore from checkpoint\n",
    "optimizer_g.load_state_dict(checkpoint['g_optim_state'])\n",
    "optimizer_d.load_state_dict(checkpoint['d_optim_state'])\n",
    "\n",
    "# Save another checkpoint with model weights and optimizer state\n",
    "checkpoint['g_optim_state'] = optimizer_g.state_dict()\n",
    "checkpoint['d_optim_state'] = optimizer_d.state_dict()\n",
    "\n",
    "\n",
    "# Compute loss with optional gradient penalty\n",
    "data_loss = d_loss_fn(scores_real, scores_fake)\n",
    "losses['D_data_loss'] = data_loss.item()\n",
    "loss += data_loss\n",
    "losses['D_total_loss'] = loss.item()\n",
    "opt.zero_grad()\n",
    "loss.backward()\n",
    "if args.clipping_threshold_d > 0:\n",
    "    nn.utils.clip_grad_norm_(discriminator.parameters(),\n",
    "                             args.clipping_threshold_d)\n",
    "opt.step()"
   ]
  }
 ],
 "metadata": {
  "kernelspec": {
   "display_name": "Python 3.7.0 ('lanegcn')",
   "language": "python",
   "name": "python3"
  },
  "language_info": {
   "codemirror_mode": {
    "name": "ipython",
    "version": 3
   },
   "file_extension": ".py",
   "mimetype": "text/x-python",
   "name": "python",
   "nbconvert_exporter": "python",
   "pygments_lexer": "ipython3",
   "version": "3.7.0"
  },
  "orig_nbformat": 4,
  "vscode": {
   "interpreter": {
    "hash": "9ff309fca0a5e8ad5576d7cf0da1773e4040ba62bb168e6dfb3b17a889a1e8a7"
   }
  }
 },
 "nbformat": 4,
 "nbformat_minor": 2
}
